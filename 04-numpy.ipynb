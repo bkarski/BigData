{
 "cells": [
  {
   "cell_type": "markdown",
   "metadata": {},
   "source": [
    "## NumPy\n",
    "\n",
    "NumPy to podstawowy pakiet do obliczeń naukowych w Pythonie. Zawiera między innymi:\n",
    "- wydajny n-wymiarowy obiekt tablicy\n",
    "- zaawansowane funkcje (nadawanie)\n",
    "- narzędzia do integracji z C/C ++ i Fortran\n",
    "- operacje algebry liniowej, transformatę Fouriera i generator liczb losowych"
   ]
  },
  {
   "cell_type": "code",
   "execution_count": 1,
   "metadata": {
    "collapsed": true
   },
   "outputs": [],
   "source": [
    "import numpy as np"
   ]
  },
  {
   "cell_type": "markdown",
   "metadata": {},
   "source": [
    "### Tablica\n",
    "\n",
    "Podstawowym obiektem w NumPy jest tablica `ndarray`. Talbicę można stworzyć z kolekcji za pomocą funkcji `ndarray` lub jej aliasu `array`."
   ]
  },
  {
   "cell_type": "code",
   "execution_count": 2,
   "metadata": {},
   "outputs": [
    {
     "name": "stdout",
     "output_type": "stream",
     "text": [
      "[1 2 3]\n"
     ]
    },
    {
     "data": {
      "text/plain": [
       "array([[1, 2],\n",
       "       [3, 4]])"
      ]
     },
     "execution_count": 2,
     "metadata": {},
     "output_type": "execute_result"
    }
   ],
   "source": [
    "n1 = np.array([1,2,3])\n",
    "print(n1)\n",
    "n2 = np.array([[1,2],[3,4]])\n",
    "n2"
   ]
  },
  {
   "cell_type": "code",
   "execution_count": 3,
   "metadata": {},
   "outputs": [
    {
     "name": "stdout",
     "output_type": "stream",
     "text": [
      "Wymiar: n1: 1, n2: 2\n",
      "Kształt: n1: (3,), n2: (2, 2)\n",
      "Rozmiar: n1: 3, n2: 4\n",
      "Typ: n1: int64, n2: int64\n",
      "Rozmiar elementu (w bajtach): n1: 8, n2: 8\n",
      "Wskaźnik do danych: n1: <memory at 0x7f346aec3108>, n2: <memory at 0x7f346b265cf0>\n"
     ]
    }
   ],
   "source": [
    "print('Wymiar: n1: {}, n2: {}'.format(n1.ndim, n2.ndim))\n",
    "print('Kształt: n1: {}, n2: {}'.format(n1.shape, n2.shape))\n",
    "print('Rozmiar: n1: {}, n2: {}'.format(n1.size, n2.size))\n",
    "print('Typ: n1: {}, n2: {}'.format(n1.dtype, n2.dtype))\n",
    "print('Rozmiar elementu (w bajtach): n1: {}, n2: {}'.format(n1.itemsize, n2.itemsize))\n",
    "print('Wskaźnik do danych: n1: {}, n2: {}'.format(n1.data, n2.data))"
   ]
  },
  {
   "cell_type": "markdown",
   "metadata": {},
   "source": [
    "W przeciwieństwie do kolekcji, tablice mogą mieć tylko jeden typ elementu."
   ]
  },
  {
   "cell_type": "code",
   "execution_count": 4,
   "metadata": {},
   "outputs": [
    {
     "name": "stdout",
     "output_type": "stream",
     "text": [
      "Tablica: [1], typ: int64\n",
      "Tablica: [ 1.], typ: float64\n",
      "Tablica: [ 0.+1.j], typ: complex128\n",
      "Tablica: ['1'], typ: <U1\n"
     ]
    }
   ],
   "source": [
    "for v in [1, 1., 1j]:\n",
    "    a = np.array([v])\n",
    "    print('Tablica: {}, typ: {}'.format(a, a.dtype))\n",
    "# można wymusić typ przy tworzeniu tablicy\n",
    "a = np.array([1], dtype=str)\n",
    "print('Tablica: {}, typ: {}'.format(a, a.dtype))"
   ]
  },
  {
   "cell_type": "markdown",
   "metadata": {},
   "source": [
    "Ogólne metody tworzenia tablic o specyficznych właściwościach."
   ]
  },
  {
   "cell_type": "code",
   "execution_count": 50,
   "metadata": {},
   "outputs": [
    {
     "name": "stdout",
     "output_type": "stream",
     "text": [
      "Zakres:\n",
      "[1 2 3 4 5 6 7 8 9]\n",
      "Zera:\n",
      "[[ 0.  0.  0.]\n",
      " [ 0.  0.  0.]]\n",
      "Jedynki:\n",
      "[[ 1.  1.]\n",
      " [ 1.  1.]\n",
      " [ 1.  1.]]\n",
      "Pusta:\n",
      "[[  6.91019061e-310   1.71232560e-316   0.00000000e+000   0.00000000e+000\n",
      "    0.00000000e+000   0.00000000e+000   0.00000000e+000]\n",
      " [  0.00000000e+000   0.00000000e+000   0.00000000e+000   0.00000000e+000\n",
      "    0.00000000e+000   0.00000000e+000   0.00000000e+000]]\n",
      "Losowa:\n",
      "[[ 0.54927261  0.99479974]\n",
      " [ 0.85014886  0.57351572]]\n"
     ]
    }
   ],
   "source": [
    "print('Zakres:\\n{}'.format(np.arange(1,10)))\n",
    "print('Zera:\\n{}'.format(np.zeros((2,3))))\n",
    "print('Jedynki:\\n{}'.format(np.ones((3,2))))\n",
    "print('Pusta:\\n{}'.format(np.empty((2,7)))) # bez inicjalizacji\n",
    "print('Losowa:\\n{}'.format(np.random.rand(2,2)))"
   ]
  },
  {
   "cell_type": "markdown",
   "metadata": {},
   "source": [
    "Pobieranie wartości z tablic."
   ]
  },
  {
   "cell_type": "code",
   "execution_count": 6,
   "metadata": {},
   "outputs": [
    {
     "name": "stdout",
     "output_type": "stream",
     "text": [
      "[1 2 3]\n",
      "[[1 2]\n",
      " [3 4]]\n",
      "2 4\n",
      "4\n",
      "[3 4]\n",
      "[2 4]\n",
      "[3]\n"
     ]
    }
   ],
   "source": [
    "print(n1)\n",
    "print(n2)\n",
    "# jak w kolekcjach\n",
    "print(n1[1], n2[1][1])\n",
    "# lub krócej\n",
    "print(n2[1,1])\n",
    "# przecięcia podobnie w kolekcjach\n",
    "print(n2[1,:])\n",
    "print(n2[:,1])\n",
    "print(n2[1,:1])"
   ]
  },
  {
   "cell_type": "markdown",
   "metadata": {},
   "source": [
    "Operacje w tablicach wykonywane są na poszczególnych elementach, np. jak pomnożymy dwie tablice pomnożone zostaną tylko elementy na tych samych pozycjach przez siebie."
   ]
  },
  {
   "cell_type": "code",
   "execution_count": 51,
   "metadata": {},
   "outputs": [
    {
     "name": "stdout",
     "output_type": "stream",
     "text": [
      "a = \n",
      "[[3 6 9]\n",
      " [1 4 1]]\n",
      "2*a = \n",
      "[[ 6 12 18]\n",
      " [ 2  8  2]]\n",
      "a**2 = \n",
      "[[ 9 36 81]\n",
      " [ 1 16  1]]\n",
      "a*a = \n",
      "[[ 9 36 81]\n",
      " [ 1 16  1]]\n"
     ]
    }
   ],
   "source": [
    "a = np.random.randint(10,size=(2,3))\n",
    "print('a = \\n{}'.format(a))\n",
    "print('2*a = \\n{}'.format(2*a))\n",
    "print('a**2 = \\n{}'.format(a**2))\n",
    "print('a*a = \\n{}'.format(a*a))"
   ]
  },
  {
   "cell_type": "markdown",
   "metadata": {},
   "source": [
    "### Macierze\n",
    "\n",
    "Numpy ma również typ macierzy `matrix`. Jest on podobny do tablicy ale podstawowe operacje wykonywane są w sposób macierzowy a nie tablicowy."
   ]
  },
  {
   "cell_type": "code",
   "execution_count": 52,
   "metadata": {},
   "outputs": [
    {
     "name": "stdout",
     "output_type": "stream",
     "text": [
      "m*mm = \n",
      "[[19 22]\n",
      " [43 50]]\n",
      "m**2 = \n",
      " [[ 7 10]\n",
      " [15 22]]\n",
      "m*2 = \n",
      " =[[2 4]\n",
      " [6 8]]\n",
      "d = \n",
      " [[3 0]\n",
      " [0 4]]\n",
      "d*m = \n",
      " [[ 3  6]\n",
      " [12 16]]\n"
     ]
    }
   ],
   "source": [
    "m = np.matrix([[1,2], [3,4]])\n",
    "mm = np.matrix([[5,6], [7,8]])\n",
    "\n",
    "print('m*mm = \\n{}'.format(m*mm))\n",
    "print('m**2 = \\n {}'.format(m**2))\n",
    "print('m*2 = \\n ={}'.format(m*2))\n",
    "\n",
    "d = np.diag([3,4])\n",
    "print('d = \\n {}'.format(d))\n",
    "print('d*m = \\n {}'.format(d*m))"
   ]
  },
  {
   "cell_type": "markdown",
   "metadata": {},
   "source": [
    "Tablic można używać podobnie wykorzystując odpowiednie funkcje (np. `dot`)."
   ]
  },
  {
   "cell_type": "code",
   "execution_count": 53,
   "metadata": {},
   "outputs": [
    {
     "name": "stdout",
     "output_type": "stream",
     "text": [
      "a*aa = \n",
      "[[ 5 12]\n",
      " [21 32]]\n",
      "a.dot(aa) = \n",
      "[[19 22]\n",
      " [43 50]]\n",
      "a**2 = \n",
      " [[ 1  4]\n",
      " [ 9 16]]\n",
      "a*2 = \n",
      " =[[2 4]\n",
      " [6 8]]\n"
     ]
    }
   ],
   "source": [
    "a = np.array([[1,2], [3,4]])\n",
    "aa = np.array([[5,6], [7,8]])\n",
    "\n",
    "print('a*aa = \\n{}'.format(a*aa))\n",
    "print('a.dot(aa) = \\n{}'.format(a.dot(aa)))\n",
    "print('a**2 = \\n {}'.format(a**2))\n",
    "print('a*2 = \\n ={}'.format(a*2))"
   ]
  },
  {
   "cell_type": "markdown",
   "metadata": {},
   "source": [
    "Operacje algebry liniowej można wykonywać zarówno na tablicach jak i macierzach"
   ]
  },
  {
   "cell_type": "code",
   "execution_count": 54,
   "metadata": {},
   "outputs": [
    {
     "name": "stdout",
     "output_type": "stream",
     "text": [
      "det(m) = -2.0000000000000004\n",
      "det(a) = -2.0000000000000004\n"
     ]
    }
   ],
   "source": [
    "print('det(m) = {}'.format(np.linalg.det(m)))\n",
    "print('det(a) = {}'.format(np.linalg.det(a)))"
   ]
  },
  {
   "cell_type": "markdown",
   "metadata": {},
   "source": [
    "## Zadanie\n",
    "Mamy liczbę trzycyfrową. Jeżeli od liczby dziesiątek odejmiemy liczbę jedności otrzymamy 6. Jeżeli do liczby dziesiątek dodamy liczbę jedności otrzymamy 10.\n",
    "\n",
    "* znajdź wszystkie liczby trzycyfrowe spełniające ten warunek\n",
    "* znajdź liczby trzycyfrowe podzielne przez 3\n",
    "\n",
    "[Podpowiedź](https://pl.wikipedia.org/wiki/Uk%C5%82ad_r%C3%B3wna%C5%84_liniowych):\n",
    "$$ Ax=B $$\n",
    "$$ x = A^{-1}B $$"
   ]
  },
  {
   "cell_type": "code",
   "execution_count": 61,
   "metadata": {},
   "outputs": [
    {
     "name": "stdout",
     "output_type": "stream",
     "text": [
      "a = \n",
      "[[ 1 -1]\n",
      " [ 1  1]]\n",
      "b = \n",
      "[[ 6]\n",
      " [10]]\n",
      "a.dot(b) = \n",
      "[[-4]\n",
      " [16]]\n"
     ]
    }
   ],
   "source": [
    "a = np.array([[1,-1], [1,1]])\n",
    "b = np.array([[6], [10]])\n",
    "\n",
    "print('a = \\n{}'.format(a))\n",
    "print('b = \\n{}'.format(b))\n",
    "\n",
    "print('a.dot(b) = \\n{}'.format(a.dot(b)))\n"
   ]
  },
  {
   "cell_type": "code",
   "execution_count": 101,
   "metadata": {
    "collapsed": true
   },
   "outputs": [],
   "source": [
    "A = np.matrix([[1, -1], [1, 1]])"
   ]
  },
  {
   "cell_type": "code",
   "execution_count": 107,
   "metadata": {
    "collapsed": true
   },
   "outputs": [],
   "source": [
    "B = np.array([[6], [10]])"
   ]
  },
  {
   "cell_type": "code",
   "execution_count": 108,
   "metadata": {},
   "outputs": [
    {
     "data": {
      "text/plain": [
       "matrix([[ 0.5,  0.5],\n",
       "        [-0.5,  0.5]])"
      ]
     },
     "execution_count": 108,
     "metadata": {},
     "output_type": "execute_result"
    }
   ],
   "source": [
    "C = np.linalg.inv(A)\n",
    "C"
   ]
  },
  {
   "cell_type": "code",
   "execution_count": 112,
   "metadata": {},
   "outputs": [
    {
     "data": {
      "text/plain": [
       "matrix([[ 8.],\n",
       "        [ 2.]])"
      ]
     },
     "execution_count": 112,
     "metadata": {},
     "output_type": "execute_result"
    }
   ],
   "source": [
    "x = np.dot(C,B)\n",
    "x"
   ]
  },
  {
   "cell_type": "code",
   "execution_count": 110,
   "metadata": {},
   "outputs": [
    {
     "data": {
      "text/plain": [
       "matrix([[ 8.],\n",
       "        [ 2.]])"
      ]
     },
     "execution_count": 110,
     "metadata": {},
     "output_type": "execute_result"
    }
   ],
   "source": [
    "C.dot(B)"
   ]
  },
  {
   "cell_type": "code",
   "execution_count": 92,
   "metadata": {},
   "outputs": [
    {
     "data": {
      "text/plain": [
       "array([1, 2, 3, 4, 5, 6, 7, 8, 9])"
      ]
     },
     "execution_count": 92,
     "metadata": {},
     "output_type": "execute_result"
    }
   ],
   "source": [
    "w = np.arange(1,10)\n",
    "w"
   ]
  },
  {
   "cell_type": "code",
   "execution_count": 82,
   "metadata": {},
   "outputs": [
    {
     "data": {
      "text/plain": [
       "array([100, 200, 300, 400, 500, 600, 700, 800, 900])"
      ]
     },
     "execution_count": 82,
     "metadata": {},
     "output_type": "execute_result"
    }
   ],
   "source": [
    "w = w *100\n",
    "w"
   ]
  },
  {
   "cell_type": "code",
   "execution_count": 83,
   "metadata": {},
   "outputs": [
    {
     "data": {
      "text/plain": [
       "array([182, 282, 382, 482, 582, 682, 782, 882, 982])"
      ]
     },
     "execution_count": 83,
     "metadata": {},
     "output_type": "execute_result"
    }
   ],
   "source": [
    "w = w+ 80 + 2\n",
    "w"
   ]
  },
  {
   "cell_type": "code",
   "execution_count": 88,
   "metadata": {},
   "outputs": [
    {
     "data": {
      "text/plain": [
       "array([282, 582, 882])"
      ]
     },
     "execution_count": 88,
     "metadata": {},
     "output_type": "execute_result"
    }
   ],
   "source": [
    "w[w % 3 == 0]"
   ]
  },
  {
   "cell_type": "code",
   "execution_count": null,
   "metadata": {
    "collapsed": true
   },
   "outputs": [],
   "source": []
  }
 ],
 "metadata": {
  "kernelspec": {
   "display_name": "Python 3",
   "language": "python",
   "name": "python3"
  },
  "language_info": {
   "codemirror_mode": {
    "name": "ipython",
    "version": 3
   },
   "file_extension": ".py",
   "mimetype": "text/x-python",
   "name": "python",
   "nbconvert_exporter": "python",
   "pygments_lexer": "ipython3",
   "version": "3.6.1"
  }
 },
 "nbformat": 4,
 "nbformat_minor": 2
}
