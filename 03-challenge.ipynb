{
 "cells": [
  {
   "cell_type": "markdown",
   "metadata": {},
   "source": [
    "## Zadanie\n",
    "\n",
    "1. Pobierz *Alice's Adventures in Wonderland* Lewis Carroll z [tego adresu](http://www.gutenberg.org/files/11/11.txt)\n",
    "1. Przeczytaj plik używając Pythona; zobacz [dokumentację](https://docs.python.org/3.6/tutorial/inputoutput.html)\n",
    "1. Zlicz wystąpienia liter w utworze (★ wykluczając nagłówek i stopkę w pliku)"
   ]
  },
  {
   "cell_type": "code",
   "execution_count": 17,
   "metadata": {},
   "outputs": [
    {
     "name": "stdout",
     "output_type": "stream",
     "text": [
      "--2019-03-23 11:59:41--  http://www.gutenberg.org/files/11/11.txt\n",
      "Resolving www.gutenberg.org (www.gutenberg.org)... 152.19.134.47, 2610:28:3090:3000:0:bad:cafe:47\n",
      "Connecting to www.gutenberg.org (www.gutenberg.org)|152.19.134.47|:80... connected.\n",
      "HTTP request sent, awaiting response... 200 OK\n",
      "Length: 167546 (164K) [text/plain]\n",
      "Saving to: ‘11.txt’\n",
      "\n",
      "11.txt              100%[===================>] 163,62K   219KB/s    in 0,7s    \n",
      "\n",
      "2019-03-23 11:59:42 (219 KB/s) - ‘11.txt’ saved [167546/167546]\n",
      "\n"
     ]
    }
   ],
   "source": [
    "!wget http://www.gutenberg.org/files/11/11.txt"
   ]
  },
  {
   "cell_type": "markdown",
   "metadata": {},
   "source": [
    "1. Ile słów występuje w utworze\n",
    "1. Zlicz wystąpienia unikalnych słów (skorzystaj z pakietu `re` i metody `findall`)"
   ]
  },
  {
   "cell_type": "code",
   "execution_count": 84,
   "metadata": {},
   "outputs": [
    {
     "name": "stdout",
     "output_type": "stream",
     "text": [
      "{'A': 1, 'L': 1, 'I': 1, 'C': 1, 'E': 1, 'S': 1, 'D': 1, 'V': 1, 'N': 1, 'T': 1, 'U': 1, 'R': 1, 'W': 1, 'O': 1, 'H': 1, 'M': 1, 'F': 1, 'P': 1, 'B': 1, 'G': 1, 'Y': 1, 'K': 1, 'Q': 1, 'J': 1, 'X': 1, 'Z': 1}\n"
     ]
    }
   ],
   "source": [
    "slownik = dict()\n",
    "file = open('11.txt', 'r')\n",
    "state = False\n",
    "for line in file:\n",
    "    if line.startswith(\"***\"):\n",
    "        state = not state\n",
    "        continue\n",
    "    if state == False:\n",
    "        continue\n",
    "    for c in line:\n",
    "        if c.isalnum() and not c.isdigit():\n",
    "            if c.upper in slownik.keys():\n",
    "                slownik[c.upper()] += 1\n",
    "            else:\n",
    "                slownik[c.upper()] = 1\n",
    "print(slownik)\n",
    "file.close()"
   ]
  },
  {
   "cell_type": "code",
   "execution_count": 97,
   "metadata": {},
   "outputs": [
    {
     "data": {
      "text/plain": [
       "'ALICE'"
      ]
     },
     "execution_count": 97,
     "metadata": {},
     "output_type": "execute_result"
    }
   ],
   "source": [
    "import re\n",
    "\n",
    "slownik = dict()\n",
    "file = open('11.txt', 'r')\n",
    "state = False\n",
    "for line in file:\n",
    "    if line.startswith(\"***\"):\n",
    "        state = not state\n",
    "        continue\n",
    "    if state == False:\n",
    "        continue\n",
    "    words = re.findall(\"\\w+\", line)\n",
    "    for c in words:\n",
    "        if c.isalnum() and not c.isdigit():\n",
    "            if c.upper in slownik.keys():\n",
    "                slownik[c.upper()] += 1\n",
    "            else:\n",
    "                slownik[c.upper()] = 1\n",
    "#print(slownik)\n",
    "#print(slownik[max(slownik), key=slownik.get(])\n",
    "#print(max(slownik), key=slownik.get)\n",
    "file.close()\n",
    "max(slownik, key=slownik.get)"
   ]
  },
  {
   "cell_type": "code",
   "execution_count": 62,
   "metadata": {},
   "outputs": [
    {
     "name": "stdout",
     "output_type": "stream",
     "text": [
      "ilość słow: 30534\n"
     ]
    }
   ],
   "source": [
    "import re\n",
    "with open('11.txt') as f:\n",
    "    slowa=0\n",
    "    for line in f:\n",
    "        wordslist=re.findall(\"\\w+\", line)\n",
    "        slowa=slowa+len(wordslist)\n",
    "print('ilość słow: ' + str(slowa))"
   ]
  },
  {
   "cell_type": "code",
   "execution_count": 85,
   "metadata": {},
   "outputs": [
    {
     "name": "stdout",
     "output_type": "stream",
     "text": [
      "ilość słow: 30534\n",
      "Unikalne Slowa: {'to', 'newsletter', 'our', 'hear', 'new', 'ebooks', 'email', 'about', 'subscribe'}\n"
     ]
    }
   ],
   "source": [
    "import re\n",
    "with open('11.txt') as f:\n",
    "    slowa=0\n",
    "    for line in f:\n",
    "        wordslist=re.findall(\"\\w+\", line)\n",
    "        slowa=slowa+len(wordslist)\n",
    "        words = re.findall('\\w+', line.lower())\n",
    "        uniq_words = set(words)\n",
    "        \n",
    "print('ilość słow: ' + str(slowa))\n",
    "print('Unikalne Slowa: ' + str(uniq_words))"
   ]
  },
  {
   "cell_type": "code",
   "execution_count": 46,
   "metadata": {},
   "outputs": [
    {
     "name": "stdout",
     "output_type": "stream",
     "text": [
      "istnieje\n"
     ]
    }
   ],
   "source": [
    "import re\n",
    "wykaz = dict()\n",
    "wykaz['a'] = 1\n",
    "if 'a' in wykaz.keys():\n",
    "    print('istnieje')"
   ]
  },
  {
   "cell_type": "markdown",
   "metadata": {},
   "source": [
    "1. Ile unikalnych słów występuje w utworze\n",
    "1. Jakie słowo występuje najczęściej"
   ]
  },
  {
   "cell_type": "code",
   "execution_count": null,
   "metadata": {
    "collapsed": true
   },
   "outputs": [],
   "source": []
  }
 ],
 "metadata": {
  "kernelspec": {
   "display_name": "Python 3",
   "language": "python",
   "name": "python3"
  },
  "language_info": {
   "codemirror_mode": {
    "name": "ipython",
    "version": 3
   },
   "file_extension": ".py",
   "mimetype": "text/x-python",
   "name": "python",
   "nbconvert_exporter": "python",
   "pygments_lexer": "ipython3",
   "version": "3.6.1"
  }
 },
 "nbformat": 4,
 "nbformat_minor": 2
}
