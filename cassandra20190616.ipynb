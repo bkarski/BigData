{
 "cells": [
  {
   "cell_type": "code",
   "execution_count": 4,
   "metadata": {},
   "outputs": [],
   "source": [
    "from cassandra.cluster import Cluster "
   ]
  },
  {
   "cell_type": "code",
   "execution_count": 38,
   "metadata": {},
   "outputs": [
    {
     "name": "stderr",
     "output_type": "stream",
     "text": [
      "WARNING:cassandra.cluster:Cluster.__init__ called with contact_points specified, but no load_balancing_policy. In the next major version, this will raise an error; please specify a load-balancing policy. (contact_points = ['172.17.0.2'], lbp = None)\n"
     ]
    }
   ],
   "source": [
    "cluster = Cluster([\"172.17.0.2\"])\n",
    "session = cluster.connect()"
   ]
  },
  {
   "cell_type": "code",
   "execution_count": 39,
   "metadata": {},
   "outputs": [],
   "source": [
    "session.set_keyspace('ex1')"
   ]
  },
  {
   "cell_type": "code",
   "execution_count": 61,
   "metadata": {},
   "outputs": [
    {
     "name": "stdout",
     "output_type": "stream",
     "text": [
      "Row(user='pcmanus', game='Coup', year=2015, month=5, day=1, score=4000)\n",
      "Row(user='pcmanus', game='Coup', year=2015, month=6, day=2, score=2000)\n",
      "Row(user='pcmanus', game='Coup', year=2019, month=6, day=16, score=1000)\n",
      "Row(user='yukim', game='Coup', year=2015, month=5, day=3, score=2250)\n",
      "Row(user='jmckenzie', game='Coup', year=2015, month=6, day=1, score=2000)\n",
      "Row(user='iamaleksey', game='Coup', year=2015, month=6, day=1, score=2500)\n",
      "Row(user='tjake', game='Coup', year=2015, month=5, day=3, score=500)\n",
      "Row(user='tjake', game='Coup', year=2015, month=6, day=2, score=1000)\n",
      "Row(user='jbellis', game='Coup', year=2015, month=5, day=3, score=1750)\n",
      "Row(user='cfranken', game='Coup', year=2017, month=2, day=3, score=20)\n",
      "Row(user='jmanor', game='Coup', year=2018, month=5, day=3, score=20)\n"
     ]
    }
   ],
   "source": [
    "result_set = session.execute(\"select * from ex1.scores\")\n",
    "for result in result_set:\n",
    "    print(result)"
   ]
  },
  {
   "cell_type": "code",
   "execution_count": 22,
   "metadata": {},
   "outputs": [
    {
     "name": "stdout",
     "output_type": "stream",
     "text": [
      "Coup 4000\n",
      "Coup 2000\n",
      "Coup 2250\n",
      "Coup 2000\n",
      "Coup 2500\n",
      "Coup 500\n",
      "Coup 1000\n",
      "Coup 1750\n",
      "Coup 20\n",
      "Coup 20\n"
     ]
    }
   ],
   "source": [
    "result_set = session.execute(\"select user, game, score from ex1.scores\")\n",
    "for result in result_set:\n",
    "    print(result.game, result.score)"
   ]
  },
  {
   "cell_type": "code",
   "execution_count": 29,
   "metadata": {},
   "outputs": [
    {
     "name": "stdout",
     "output_type": "stream",
     "text": [
      "Coup 4000\n",
      "Coup 2000\n"
     ]
    }
   ],
   "source": [
    "user = 'pcmanus'\n",
    "\n",
    "result_set = session.execute(\"\"\"\n",
    "    select user, game, score \n",
    "    from ex1.scores\n",
    "    where user='{}'\"\"\".format(user)\n",
    ")\n",
    "for result in result_set:\n",
    "    print(result.game, result.score)"
   ]
  },
  {
   "cell_type": "code",
   "execution_count": 37,
   "metadata": {},
   "outputs": [
    {
     "name": "stdout",
     "output_type": "stream",
     "text": [
      "Coup 4000\n",
      "Coup 2000\n"
     ]
    }
   ],
   "source": [
    "user = \"pcmanus\"\n",
    "game = \"Coup\"\n",
    "\n",
    "result_set = session.execute(\"\"\"\n",
    "    select user, game, score \n",
    "    from ex1.scores\n",
    "    where user=%(user)s and game=%(game)s\"\"\",\n",
    "    {\"user\": user, \"game\": game}\n",
    ")\n",
    "for result in result_set:\n",
    "    print(result.game, result.score)"
   ]
  },
  {
   "cell_type": "code",
   "execution_count": 47,
   "metadata": {},
   "outputs": [
    {
     "name": "stdout",
     "output_type": "stream",
     "text": [
      "Coup 4000\n",
      "Coup 2000\n"
     ]
    }
   ],
   "source": [
    "#user = \"pcmanus\"\n",
    "#game = \"Coup\"\n",
    "arguments = {\n",
    "    \"gracz\": \"pcmanus\",\n",
    "    \"gra\": \"Coup\"\n",
    "}\n",
    "\n",
    "result_set = session.execute(\"\"\"\n",
    "    select user, game, score \n",
    "    from ex1.scores\n",
    "    where user=%(gracz)s and game=%(gra)s\"\"\",\n",
    "    # {\"user\": user, \"game\": game}\n",
    "    arguments\n",
    ")\n",
    "for result in result_set:\n",
    "    print(result.game, result.score)"
   ]
  },
  {
   "cell_type": "code",
   "execution_count": 54,
   "metadata": {},
   "outputs": [],
   "source": [
    "from cassandra import ConsistencyLevel\n",
    "from cassandra.query import SimpleStatement"
   ]
  },
  {
   "cell_type": "code",
   "execution_count": 55,
   "metadata": {},
   "outputs": [],
   "source": [
    "session.set_keyspace('ex1')"
   ]
  },
  {
   "cell_type": "code",
   "execution_count": 59,
   "metadata": {},
   "outputs": [
    {
     "data": {
      "text/plain": [
       "<cassandra.cluster.ResultSet at 0x7f2a8698a4e0>"
      ]
     },
     "execution_count": 59,
     "metadata": {},
     "output_type": "execute_result"
    }
   ],
   "source": [
    "#session.defaul_consistency_level = ConsistencyLevel.TWO\n",
    "stmt = SimpleStatement(\"\"\"\n",
    "    INSERT INTO scores(user,game,year,month,day,score)\n",
    "    VALUES\n",
    "    ('pcmanus','Coup',2019, 6, 16, %s)\"\"\",\n",
    "    consistency_level=ConsistencyLevel.QUORUM\n",
    ")\n",
    "session.execute(stmt, [1000])"
   ]
  },
  {
   "cell_type": "code",
   "execution_count": 60,
   "metadata": {},
   "outputs": [
    {
     "data": {
      "text/plain": [
       "<cassandra.cluster.ResultSet at 0x7f2a8472bb00>"
      ]
     },
     "execution_count": 60,
     "metadata": {},
     "output_type": "execute_result"
    }
   ],
   "source": [
    "#session.defaul_consistency_level = ConsistencyLevel.TWO\n",
    "stmt = SimpleStatement(\"\"\"\n",
    "    INSERT INTO scores(user,game,year,month,day,score)\n",
    "    VALUES\n",
    "    ('pcmanus','Coup',2019, 6, 16, %s)\n",
    "    IF NOT EXISTS\"\"\",\n",
    "    consistency_level=ConsistencyLevel.QUORUM\n",
    ")\n",
    "session.execute(stmt, [1000])\n"
   ]
  },
  {
   "cell_type": "code",
   "execution_count": 87,
   "metadata": {},
   "outputs": [
    {
     "name": "stdout",
     "output_type": "stream",
     "text": [
      "TOOK 4.7149658203125\n",
      "Coup 4000\n",
      "Coup 2000\n",
      "Coup 1000\n"
     ]
    }
   ],
   "source": [
    "from time import time\n",
    "\n",
    "start = time()\n",
    "result_set = session.execute(\"\"\"\n",
    "    select user, game, score from ex1.scores where user ='pcmanus'\"\"\")\n",
    "took = time() - start\n",
    "print (\"TOOK\", took * 1000)\n",
    "\n",
    "for result in result_set:\n",
    "    print(result.game, result.score)"
   ]
  },
  {
   "cell_type": "code",
   "execution_count": 98,
   "metadata": {},
   "outputs": [
    {
     "name": "stdout",
     "output_type": "stream",
     "text": [
      "TOOK 1.4050006866455078\n",
      "Coup 4000\n",
      "Coup 2000\n",
      "Coup 1000\n"
     ]
    }
   ],
   "source": [
    "from time import time\n",
    "\n",
    "start = time()\n",
    "future = session.execute_async(\"\"\"\n",
    "    select user, game, score from ex1.scores where user ='pcmanus'\"\"\")\n",
    "took = time() - start\n",
    "print (\"TOOK\", took * 1000)\n",
    "\n",
    "result_set = future.result()\n",
    "for result in result_set:\n",
    "    print(result.game, result.score)"
   ]
  },
  {
   "cell_type": "code",
   "execution_count": null,
   "metadata": {},
   "outputs": [],
   "source": []
  },
  {
   "cell_type": "code",
   "execution_count": null,
   "metadata": {},
   "outputs": [],
   "source": []
  }
 ],
 "metadata": {
  "kernelspec": {
   "display_name": "ENV",
   "language": "python",
   "name": "env"
  },
  "language_info": {
   "codemirror_mode": {
    "name": "ipython",
    "version": 3
   },
   "file_extension": ".py",
   "mimetype": "text/x-python",
   "name": "python",
   "nbconvert_exporter": "python",
   "pygments_lexer": "ipython3",
   "version": "3.5.2"
  }
 },
 "nbformat": 4,
 "nbformat_minor": 2
}
