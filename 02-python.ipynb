{
 "cells": [
  {
   "cell_type": "markdown",
   "metadata": {},
   "source": [
    "# Wprowadzenie do Python"
   ]
  },
  {
   "cell_type": "code",
   "execution_count": 1,
   "metadata": {
    "collapsed": true
   },
   "outputs": [],
   "source": [
    "\"\"\"\n",
    "typy podstawowe\n",
    "i\n",
    "deklaracja zmiennych\n",
    "\"\"\"\n",
    "# typy podstawowe i deklaracja zmiennych\n",
    "i = 3  # integer (int)\n",
    "f = 1.1  # float\n",
    "s = 'Hi'  # str (unicode)\n",
    "c = 1+2j  # complex\n",
    "bo = True  # bool\n",
    "o = None  # NoneType"
   ]
  },
  {
   "cell_type": "code",
   "execution_count": 12,
   "metadata": {},
   "outputs": [
    {
     "name": "stdout",
     "output_type": "stream",
     "text": [
      "<class 'int'>\n",
      "<class 'complex'>\n",
      "1.0\n"
     ]
    }
   ],
   "source": [
    "# operatory arytmetyczne\n",
    "# + - * / %\n",
    "# exponentiation **\n",
    "print(type(i))\n",
    "print(type(c))\n",
    "j =i/3\n",
    "print(j)"
   ]
  },
  {
   "cell_type": "code",
   "execution_count": 17,
   "metadata": {},
   "outputs": [
    {
     "name": "stdout",
     "output_type": "stream",
     "text": [
      "<class 'str'>\n",
      "101\n"
     ]
    }
   ],
   "source": [
    "s = \"100\"\n",
    "print(type(s))\n",
    "z = int(s)+1\n",
    "print(z)"
   ]
  },
  {
   "cell_type": "code",
   "execution_count": 19,
   "metadata": {},
   "outputs": [
    {
     "data": {
      "text/plain": [
       "True"
      ]
     },
     "execution_count": 19,
     "metadata": {},
     "output_type": "execute_result"
    }
   ],
   "source": [
    "# operatory relacyjne\n",
    "# == != < <= > >=\n",
    "i != i+1"
   ]
  },
  {
   "cell_type": "code",
   "execution_count": 21,
   "metadata": {},
   "outputs": [
    {
     "data": {
      "text/plain": [
       "True"
      ]
     },
     "execution_count": 21,
     "metadata": {},
     "output_type": "execute_result"
    }
   ],
   "source": [
    "# operatory logiczne\n",
    "# and or not\n",
    "i == i or i != i"
   ]
  },
  {
   "cell_type": "code",
   "execution_count": 29,
   "metadata": {},
   "outputs": [
    {
     "data": {
      "text/plain": [
       "7"
      ]
     },
     "execution_count": 29,
     "metadata": {},
     "output_type": "execute_result"
    }
   ],
   "source": [
    "# operatory bitowe\n",
    "# & | ^ ~ << >>\n",
    "3&4\n",
    "3|4\n",
    "3^4"
   ]
  },
  {
   "cell_type": "code",
   "execution_count": 36,
   "metadata": {},
   "outputs": [
    {
     "name": "stdout",
     "output_type": "stream",
     "text": [
      "27\n",
      "31\n"
     ]
    }
   ],
   "source": [
    "# operatory przypisania\n",
    "# = += -= *= /= %= <<= >>= &= ^= |=\n",
    "print(i)\n",
    "i = i + 2\n",
    "i += 2\n",
    "print(i)"
   ]
  },
  {
   "cell_type": "code",
   "execution_count": 45,
   "metadata": {},
   "outputs": [],
   "source": [
    "# instrukcja warunkowa\n",
    "i = 0\n",
    "if i != 0:\n",
    "    print('i != 0')\n",
    "    print(\"hej\")"
   ]
  },
  {
   "cell_type": "code",
   "execution_count": 56,
   "metadata": {},
   "outputs": [
    {
     "name": "stdout",
     "output_type": "stream",
     "text": [
      "i is positive\n"
     ]
    }
   ],
   "source": [
    "i = 4\n",
    "if i < 0:\n",
    "    print('i less than 0')\n",
    "elif i == 0:\n",
    "    print('i == 0')\n",
    "else:\n",
    "    print('i is positive')"
   ]
  },
  {
   "cell_type": "code",
   "execution_count": 49,
   "metadata": {},
   "outputs": [
    {
     "name": "stdout",
     "output_type": "stream",
     "text": [
      "j = 1\n"
     ]
    }
   ],
   "source": [
    "i = 3\n",
    "j = 1 if i == 3 else 2\n",
    "print('j = ' + str(j))"
   ]
  },
  {
   "cell_type": "code",
   "execution_count": 57,
   "metadata": {},
   "outputs": [
    {
     "name": "stdout",
     "output_type": "stream",
     "text": [
      "while i = 3\n",
      "while i = 2\n",
      "while i = 1\n"
     ]
    }
   ],
   "source": [
    "# pętle\n",
    "i = 3\n",
    "while i > 0:\n",
    "    print('while i = ' + str(i))\n",
    "    i -= 1"
   ]
  },
  {
   "cell_type": "code",
   "execution_count": 67,
   "metadata": {},
   "outputs": [
    {
     "name": "stdout",
     "output_type": "stream",
     "text": [
      "1\n",
      "4\n",
      "9\n",
      "16\n",
      "25\n",
      "36\n",
      "49\n",
      "64\n",
      "81\n"
     ]
    }
   ],
   "source": [
    "i = 1\n",
    "\n",
    "while i < 10:\n",
    "    print(i**2)\n",
    "    i += 1"
   ]
  },
  {
   "cell_type": "code",
   "execution_count": 79,
   "metadata": {},
   "outputs": [
    {
     "name": "stdout",
     "output_type": "stream",
     "text": [
      "Kwadrat dla liczby 1 = 1\n",
      "Kwadrat dla liczby 2 = 4\n",
      "Kwadrat dla liczby 3 = 9\n",
      "Kwadrat dla liczby 4 = 16\n",
      "Kwadrat dla liczby 5 = 25\n",
      "Kwadrat dla liczby 6 = 36\n",
      "Kwadrat dla liczby 7 = 49\n",
      "Kwadrat dla liczby 8 = 64\n",
      "Kwadrat dla liczby 9 = 81\n"
     ]
    }
   ],
   "source": [
    "i = 1\n",
    "while i < 10:\n",
    "    print(\"Kwadrat dla liczby \"+ str(i) + ' = ' + str(i**2))\n",
    "    i += 1"
   ]
  },
  {
   "cell_type": "markdown",
   "metadata": {},
   "source": [
    "Zaimplementuj program drukujący kwadraty liczb od 1 do 10."
   ]
  },
  {
   "cell_type": "code",
   "execution_count": 71,
   "metadata": {},
   "outputs": [
    {
     "name": "stdout",
     "output_type": "stream",
     "text": [
      "while continue i = 4\n",
      "while continue i = 3\n",
      "while continue i = 1\n",
      "while continue i = 0\n"
     ]
    }
   ],
   "source": [
    "i = 5\n",
    "while i > 0:\n",
    "    i -= 1\n",
    "    if i == 2:\n",
    "        continue\n",
    "    print('while continue i = ' + str(i))"
   ]
  },
  {
   "cell_type": "code",
   "execution_count": 72,
   "metadata": {},
   "outputs": [
    {
     "name": "stdout",
     "output_type": "stream",
     "text": [
      "while break i = 2\n",
      "while break i = 1\n",
      "while break i = 0\n"
     ]
    }
   ],
   "source": [
    "i = 3\n",
    "while True:\n",
    "    i -= 1\n",
    "    print('while break i = ' + str(i))\n",
    "    if i == 0:\n",
    "        break"
   ]
  },
  {
   "cell_type": "markdown",
   "metadata": {},
   "source": [
    "Zaimplementuj program:\n",
    "* drukujący tabliczkę mnożenia w zakresie od 1 do 10,\n",
    "* drukujący tabliczkę mnożenia w zakresie od 1 do 10 dla liczb parzystych,\n",
    "* drukujący tabliczkę mnożenia w zakresie od 1 do 10 dla liczb parzystych poza 6."
   ]
  },
  {
   "cell_type": "code",
   "execution_count": 86,
   "metadata": {},
   "outputs": [
    {
     "name": "stdout",
     "output_type": "stream",
     "text": [
      "10\n",
      "10"
     ]
    }
   ],
   "source": [
    "print(i, end=\"\\n\")\n",
    "print(i, end=\"\")"
   ]
  },
  {
   "cell_type": "code",
   "execution_count": 128,
   "metadata": {},
   "outputs": [
    {
     "name": "stdout",
     "output_type": "stream",
     "text": [
      "1 2 3 4 5 6 7 8 9 10 \n",
      "2 4 6 8 10 12 14 16 18 20 \n",
      "3 6 9 12 15 18 21 24 27 30 \n",
      "4 8 12 16 20 24 28 32 36 40 \n",
      "5 10 15 20 25 30 35 40 45 50 \n",
      "6 12 18 24 30 36 42 48 54 60 \n",
      "7 14 21 28 35 42 49 56 63 70 \n",
      "8 16 24 32 40 48 56 64 72 80 \n",
      "9 18 27 36 45 54 63 72 81 90 \n",
      "10 20 30 40 50 60 70 80 90 100 \n"
     ]
    }
   ],
   "source": [
    "i = 1\n",
    "m = 1\n",
    "while i <= 10:\n",
    "    m = 1\n",
    "    while m < 10:\n",
    "        print( str(i*m) + ' ', end=\"\")\n",
    "        m += 1\n",
    "    print(str(i*m) + ' ', end=\"\\n\")\n",
    "    i += 1"
   ]
  },
  {
   "cell_type": "code",
   "execution_count": null,
   "metadata": {
    "collapsed": true
   },
   "outputs": [],
   "source": [
    "x = 0\n",
    "y = 1\n",
    "while x <= 10:\n",
    "    X += 1\n",
    "    if x % 2 != \n",
    "    while m < 10:\n",
    "        print( str(i*m) + ' ', end=\"\")\n",
    "        m += 1\n",
    "    print(str(i*m) + ' ', end=\"\\n\")\n",
    "    i += 1"
   ]
  },
  {
   "cell_type": "code",
   "execution_count": 131,
   "metadata": {
    "scrolled": true
   },
   "outputs": [
    {
     "name": "stdout",
     "output_type": "stream",
     "text": [
      "Tekst   \n",
      "tekst   \n",
      "TEKST   \n",
      "2\n",
      "b'tekst   '\n",
      "True\n",
      "False\n",
      "2\n",
      "8 5\n",
      "False\n",
      "False\n",
      "True\n",
      "False\n",
      "False\n",
      "1tekst   2tekst   3\n"
     ]
    },
    {
     "data": {
      "text/plain": [
       "'1, 2, 3'"
      ]
     },
     "execution_count": 131,
     "metadata": {},
     "output_type": "execute_result"
    }
   ],
   "source": [
    "# operacje na tekście\n",
    "t = \"tekst   \"\n",
    "print(t.capitalize())\n",
    "print(t.lower())\n",
    "print(t.upper())\n",
    "print(t.count(\"t\"))\n",
    "print(t.encode('utf-8'))\n",
    "print(t.startswith('t'))\n",
    "print(t.endswith('t'))\n",
    "print(t.find('k'))\n",
    "print(len(t), len(t.strip()))\n",
    "print(t.isalnum())\n",
    "print(t.isdigit())\n",
    "print(t.islower())\n",
    "print(t.isspace())\n",
    "print(t.isupper())\n",
    "print(t.join(['1','2','3']))\n",
    "', '.join(['1','2','3'])"
   ]
  },
  {
   "cell_type": "code",
   "execution_count": 153,
   "metadata": {},
   "outputs": [
    {
     "name": "stdout",
     "output_type": "stream",
     "text": [
      "Hello World!\n",
      "H\n",
      "Hello World!\n",
      "He\n",
      "HloWrd\n",
      "He\n",
      "ld!\n"
     ]
    }
   ],
   "source": [
    "# sekwencje\n",
    "h = \"World\"\n",
    "w = \"Hello\"\n",
    "h, w = w, h # zamiana zmiennych\n",
    "hello = h + \" \" + w + \"!\"\n",
    "print(hello)\n",
    "print(hello[0])\n",
    "print(hello[0:])\n",
    "print(hello[0:2])\n",
    "print(hello[0::2])\n",
    "print(hello[:2])\n",
    "print(hello[-3:])"
   ]
  },
  {
   "cell_type": "code",
   "execution_count": 154,
   "metadata": {},
   "outputs": [
    {
     "name": "stdout",
     "output_type": "stream",
     "text": [
      "Hello World!"
     ]
    }
   ],
   "source": [
    "for i in hello:\n",
    "    print(i, end=\"\")"
   ]
  },
  {
   "cell_type": "code",
   "execution_count": 163,
   "metadata": {},
   "outputs": [
    {
     "name": "stdout",
     "output_type": "stream",
     "text": [
      "2\n",
      "4\n",
      "6\n",
      "8\n",
      "60\n"
     ]
    }
   ],
   "source": [
    "for i in range(2, 10, 2):\n",
    "    print(i)\n",
    "    j += i\n",
    "print(j)"
   ]
  },
  {
   "cell_type": "markdown",
   "metadata": {},
   "source": [
    "Wydrukuj liczby nieparzyste w zakresie od 0 do 100 podzielne przez 3 ale nie przez 15."
   ]
  },
  {
   "cell_type": "code",
   "execution_count": 195,
   "metadata": {},
   "outputs": [
    {
     "name": "stdout",
     "output_type": "stream",
     "text": [
      "The slowest run took 6.35 times longer than the fastest. This could mean that an intermediate result is being cached.\n",
      "100000 loops, best of 3: 3.76 µs per loop\n"
     ]
    }
   ],
   "source": [
    "%%timeit\n",
    "for i in range(0, 100, 3):\n",
    "    if i % 2 != 0 & i % 15 != 0:\n",
    "        #print(i, end=\" \")\n",
    "        pass"
   ]
  },
  {
   "cell_type": "code",
   "execution_count": null,
   "metadata": {
    "collapsed": true
   },
   "outputs": [],
   "source": [
    "100000 loops, best of 3: 3.99 µs per loop\n",
    "\n",
    "The slowest run took 6.35 times longer than the fastest. This could mean that an intermediate result is being cached.\n",
    "100000 loops, best of 3: 3.76 µs per loo"
   ]
  },
  {
   "cell_type": "code",
   "execution_count": 198,
   "metadata": {},
   "outputs": [
    {
     "name": "stdout",
     "output_type": "stream",
     "text": [
      "WITAJ\n"
     ]
    }
   ],
   "source": [
    "text = 'Witaj'\n",
    "text = text.upper()\n",
    "print(text)"
   ]
  },
  {
   "cell_type": "code",
   "execution_count": 199,
   "metadata": {},
   "outputs": [
    {
     "name": "stdout",
     "output_type": "stream",
     "text": [
      "tuple 1\n",
      "tuple 3\n",
      "tuple text\n",
      "tuple [6, 5]\n",
      "tuple 1.2\n"
     ]
    }
   ],
   "source": [
    "# krotka\n",
    "t = (1, 3, 'text', [6, 5], 1.2)\n",
    "for i in t:\n",
    "    print(\"tuple \" + str(i))"
   ]
  },
  {
   "cell_type": "code",
   "execution_count": 200,
   "metadata": {},
   "outputs": [
    {
     "name": "stdout",
     "output_type": "stream",
     "text": [
      "list 3\n",
      "list text\n",
      "list [6, 5]\n",
      "list 1.2\n",
      "list 5\n"
     ]
    }
   ],
   "source": [
    "# lista\n",
    "l = [1, 3, 'text', [6, 5], 1.2]\n",
    "l.remove(1)\n",
    "l.append(5)\n",
    "for i in l:\n",
    "    print(\"list \" + str(i))"
   ]
  },
  {
   "cell_type": "code",
   "execution_count": 201,
   "metadata": {},
   "outputs": [
    {
     "name": "stdout",
     "output_type": "stream",
     "text": [
      "set 1.2\n",
      "set 3\n",
      "set 5\n",
      "set text\n"
     ]
    }
   ],
   "source": [
    "# zbiór\n",
    "s = {1, 3, 'text', 1.2}\n",
    "s.remove(1)\n",
    "s.add(5)\n",
    "s.add(5)\n",
    "for i in s:\n",
    "    print(\"set \" + str(i))"
   ]
  },
  {
   "cell_type": "code",
   "execution_count": 204,
   "metadata": {},
   "outputs": [
    {
     "name": "stdout",
     "output_type": "stream",
     "text": [
      "{'name': 'John', 'surname': 'Smith'}\n",
      "{'name': 'John', 'surname': 'Smith', 'age': 30}\n",
      "John age: 30\n",
      "name\n",
      "surname\n",
      "age\n"
     ]
    }
   ],
   "source": [
    "# słownik\n",
    "person = {'name': 'John', 'surname': 'Smith'}\n",
    "print(person)\n",
    "person['age'] = 30\n",
    "print(person)\n",
    "if 'age' in person:\n",
    "    print('{} age: {}'.format(person['name'], person['age']))\n",
    "for i in person.keys():\n",
    "    print(i)"
   ]
  },
  {
   "cell_type": "code",
   "execution_count": 215,
   "metadata": {},
   "outputs": [
    {
     "name": "stdout",
     "output_type": "stream",
     "text": [
      "sub\n",
      "1\n",
      "sub\n",
      "10\n",
      "sub\n",
      "0\n"
     ]
    }
   ],
   "source": [
    "def sub(a, b=1):\n",
    "    # function sample\n",
    "    print(\"sub\")\n",
    "    return a - b\n",
    "\n",
    "\n",
    "# function call\n",
    "print(sub(2, 1))\n",
    "print(sub(b=10, a=20))\n",
    "print(sub(1))"
   ]
  }
 ],
 "metadata": {
  "kernelspec": {
   "display_name": "Python 3",
   "language": "python",
   "name": "python3"
  },
  "language_info": {
   "codemirror_mode": {
    "name": "ipython",
    "version": 3
   },
   "file_extension": ".py",
   "mimetype": "text/x-python",
   "name": "python",
   "nbconvert_exporter": "python",
   "pygments_lexer": "ipython3",
   "version": "3.6.1"
  }
 },
 "nbformat": 4,
 "nbformat_minor": 2
}
