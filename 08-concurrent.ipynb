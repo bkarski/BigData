{
 "cells": [
  {
   "cell_type": "markdown",
   "metadata": {},
   "source": [
    "# Współbieżność (i równoległość)\n",
    "\n",
    "    Concurrency is about dealing with lots of things at once.\n",
    "    Parallelism is about doing lots of things at once.\n",
    "    \n",
    "    Rob Pike"
   ]
  },
  {
   "cell_type": "code",
   "execution_count": 1,
   "metadata": {},
   "outputs": [
    {
     "name": "stdout",
     "output_type": "stream",
     "text": [
      "S  Sat Apr  6 11:14:45 2019\n",
      "E  Sat Apr  6 11:14:45 2019\n",
      "1  Sat Apr  6 11:14:46 2019\n",
      "2  Sat Apr  6 11:14:47 2019\n",
      "1  Sat Apr  6 11:14:47 2019\n",
      "1  Sat Apr  6 11:14:48 2019\n",
      "2  Sat Apr  6 11:14:49 2019\n",
      "1  Sat Apr  6 11:14:49 2019\n",
      "1  Sat Apr  6 11:14:50 2019\n",
      "2  Sat Apr  6 11:14:51 2019\n",
      "2  Sat Apr  6 11:14:53 2019\n",
      "2  Sat Apr  6 11:14:55 2019\n"
     ]
    }
   ],
   "source": [
    "import threading, time\n",
    "\n",
    "def thread_func(threadName, delay):\n",
    "   count = 0\n",
    "   while count < 5:\n",
    "      time.sleep(delay)\n",
    "      count += 1\n",
    "      print(threadName + \"  \" + time.ctime(time.time()))\n",
    "    \n",
    "t1 = threading.Thread(name='1', target=thread_func, args=['1', 1])\n",
    "t2 = threading.Thread(name='2', target=thread_func, args=['2', 2])\n",
    "print(\"S\" + \"  \" + time.ctime(time.time()))\n",
    "t1.start()\n",
    "t2.start()\n",
    "print(\"E\" + \"  \" + time.ctime(time.time()))\n"
   ]
  },
  {
   "cell_type": "code",
   "execution_count": 2,
   "metadata": {},
   "outputs": [
    {
     "name": "stdout",
     "output_type": "stream",
     "text": [
      "S  Sat Apr  6 11:18:49 2019\n",
      "1  Sat Apr  6 11:18:50 2019\n",
      "2  Sat Apr  6 11:18:51 20191  Sat Apr  6 11:18:51 2019\n",
      "\n",
      "1  Sat Apr  6 11:18:52 2019\n",
      "2  Sat Apr  6 11:18:53 2019\n",
      "1  Sat Apr  6 11:18:53 2019\n",
      "1  Sat Apr  6 11:18:54 2019\n",
      "2  Sat Apr  6 11:18:55 2019\n",
      "2  Sat Apr  6 11:18:57 2019\n",
      "2  Sat Apr  6 11:18:59 2019\n",
      "E  Sat Apr  6 11:18:59 2019\n"
     ]
    }
   ],
   "source": [
    "import threading, time\n",
    "\n",
    "def thread_func(threadName, delay):\n",
    "   count = 0\n",
    "   while count < 5:\n",
    "      time.sleep(delay)\n",
    "      count += 1\n",
    "      print(threadName + \"  \" + time.ctime(time.time()))\n",
    "    \n",
    "t1 = threading.Thread(name='1', target=thread_func, args=['1', 1])\n",
    "t2 = threading.Thread(name='2', target=thread_func, args=['2', 2])\n",
    "print(\"S\" + \"  \" + time.ctime(time.time()))\n",
    "t1.start()\n",
    "t2.start()\n",
    "t1.join()\n",
    "t2.join()\n",
    "print(\"E\" + \"  \" + time.ctime(time.time()))\n"
   ]
  },
  {
   "cell_type": "code",
   "execution_count": null,
   "metadata": {
    "collapsed": true
   },
   "outputs": [],
   "source": [
    "\n",
    "\n",
    "\n",
    "\n",
    "\n",
    "\n",
    "\n",
    "\n",
    "\n",
    "\n",
    "\n",
    "\n",
    "\n",
    "praca domowa uwspółbnieżnić zadanie poniżje\n",
    "uruchomić gunkcje jako wątek i wstawić join-a.\n",
    "\n",
    "\n",
    "\n",
    "\n",
    "\n",
    "\n",
    "\n",
    "\n",
    "\n",
    "\n",
    "\n",
    "\n",
    "\n",
    "\n",
    "\n",
    "\n",
    "\n",
    "\n",
    "\n",
    "\n",
    "\n",
    "\n"
   ]
  },
  {
   "cell_type": "code",
   "execution_count": 3,
   "metadata": {},
   "outputs": [
    {
     "name": "stdout",
     "output_type": "stream",
     "text": [
      "823\n"
     ]
    }
   ],
   "source": [
    "import random\n",
    "mylist = [random.randint(0, 100000000) for k in range(10000000)]\n",
    "\n",
    "def find_min(l, lo, hi):\n",
    "    if hi - lo < 10000:\n",
    "        min = l[lo]\n",
    "        for i in range(lo, hi):\n",
    "            if l[i] < min:\n",
    "                min = l[i]\n",
    "        return min;\n",
    "    min_a = find_min(l, lo, int(lo + (hi-lo)/2))\n",
    "    min_b = find_min(l, int(lo + (hi-lo)/2), hi)\n",
    "    return min_a if min_a < min_b else min_b\n",
    "\n",
    "print(find_min(mylist, 0, 100000))"
   ]
  },
  {
   "cell_type": "markdown",
   "metadata": {},
   "source": [
    "Dostęp do współdzielonych danych powinien być synchronizowany, choć niektóre z implementacji Pythona będą działać \"poprawnie\"."
   ]
  },
  {
   "cell_type": "code",
   "execution_count": 29,
   "metadata": {},
   "outputs": [
    {
     "name": "stdout",
     "output_type": "stream",
     "text": [
      "15\n",
      "15\n"
     ]
    }
   ],
   "source": [
    "import threading, time\n",
    "\n",
    "a = 0\n",
    "b = 0\n",
    "\n",
    "def thread1():\n",
    "    global a, b\n",
    "    a += 5\n",
    "    b += 5\n",
    "\n",
    "def thread2():\n",
    "    global a, b\n",
    "    a += 10\n",
    "    b += 10\n",
    "\n",
    "t = threading.Thread(target = thread2)\n",
    "t.start()\n",
    "t = threading.Thread(target = thread1)\n",
    "t.start()\n",
    "print(a)\n",
    "print(b)\n"
   ]
  },
  {
   "cell_type": "markdown",
   "metadata": {},
   "source": [
    "Ręczna synchronizacja jest trudna i często prowadzi do problemów ze współdzieleniem danych takich jak np. zakleszczenia."
   ]
  },
  {
   "cell_type": "code",
   "execution_count": 51,
   "metadata": {},
   "outputs": [
    {
     "name": "stdout",
     "output_type": "stream",
     "text": [
      "Thread2 acquiring lock b\n",
      "Thread2 acquiring lock b - got it!\n",
      "Thread2 acquiring lock a\n",
      "Thread2 acquiring lock a - got it!\n",
      "Thread2 releasing both locks\n",
      "Thread1 acquiring lock a\n",
      "Thread1 acquiring lock a - got it!\n",
      "Thread1 acquiring lock b\n",
      "Thread1 acquiring lock b - got it!\n",
      "Thread1 releasing both locks\n"
     ]
    }
   ],
   "source": [
    "import threading, time\n",
    "\n",
    "alock = threading.Lock()\n",
    "block = threading.Lock()\n",
    "a = 0\n",
    "b = 0\n",
    "\n",
    "def thread1():\n",
    "    global a, b\n",
    "    print('Thread1 acquiring lock a')\n",
    "    alock.acquire()\n",
    "    print('Thread1 acquiring lock a - got it!')\n",
    "\n",
    "    print('Thread1 acquiring lock b')\n",
    "    block.acquire()\n",
    "    print('Thread1 acquiring lock b - got it!')\n",
    "    a += 5\n",
    "    b += 5\n",
    "\n",
    "    print('Thread1 releasing both locks')\n",
    "    block.release()\n",
    "    alock.release()\n",
    "\n",
    "def thread2():\n",
    "    global a, b\n",
    "    print('Thread2 acquiring lock b')\n",
    "    block.acquire()\n",
    "    print('Thread2 acquiring lock b - got it!')\n",
    "\n",
    "    print('Thread2 acquiring lock a')\n",
    "    alock.acquire()\n",
    "    print('Thread2 acquiring lock a - got it!')\n",
    "    a += 10\n",
    "    b += 10\n",
    "\n",
    "    print('Thread2 releasing both locks')\n",
    "    block.release()\n",
    "    alock.release()\n",
    "\n",
    "\n",
    "t = threading.Thread(target = thread2)\n",
    "t.start()\n",
    "t = threading.Thread(target = thread1)\n",
    "t.start()\n"
   ]
  },
  {
   "cell_type": "code",
   "execution_count": 59,
   "metadata": {},
   "outputs": [
    {
     "ename": "SyntaxError",
     "evalue": "invalid syntax (<ipython-input-59-69e8a4417fcc>, line 1)",
     "output_type": "error",
     "traceback": [
      "\u001b[0;36m  File \u001b[0;32m\"<ipython-input-59-69e8a4417fcc>\"\u001b[0;36m, line \u001b[0;32m1\u001b[0m\n\u001b[0;31m    zmienilem alock i block\u001b[0m\n\u001b[0m                  ^\u001b[0m\n\u001b[0;31mSyntaxError\u001b[0m\u001b[0;31m:\u001b[0m invalid syntax\n"
     ]
    }
   ],
   "source": [
    "zmienilem alock i block"
   ]
  },
  {
   "cell_type": "code",
   "execution_count": 60,
   "metadata": {},
   "outputs": [
    {
     "name": "stdout",
     "output_type": "stream",
     "text": [
      "Thread2 acquiring lock b\n",
      "Thread2 acquiring lock b - got it!\n",
      "Thread1 acquiring lock aThread2 acquiring lock a\n",
      "\n",
      "Thread1 acquiring lock a - got it!Thread2 acquiring lock a - got it!\n",
      "\n",
      "Thread1 acquiring lock bThread2 releasing both locks\n",
      "\n",
      "Thread1 acquiring lock b - got it!\n",
      "Thread1 releasing both locks\n"
     ]
    }
   ],
   "source": [
    "import threading, time\n",
    "\n",
    "alock = threading.Lock()\n",
    "block = threading.Lock()\n",
    "a = 0\n",
    "b = 0\n",
    "\n",
    "def thread1():\n",
    "    global a, b\n",
    "    print('Thread1 acquiring lock a')\n",
    "    alock.acquire()\n",
    "    print('Thread1 acquiring lock a - got it!')\n",
    "\n",
    "    print('Thread1 acquiring lock b')\n",
    "    block.acquire()\n",
    "    print('Thread1 acquiring lock b - got it!')\n",
    "    a += 5\n",
    "    b += 5\n",
    "\n",
    "    print('Thread1 releasing both locks')\n",
    "    block.release()\n",
    "    alock.release()\n",
    "\n",
    "def thread2():\n",
    "    global a, b\n",
    "    print('Thread2 acquiring lock b')\n",
    "    alock.acquire()\n",
    "    print('Thread2 acquiring lock b - got it!')\n",
    "\n",
    "    print('Thread2 acquiring lock a')\n",
    "    block.acquire()\n",
    "    print('Thread2 acquiring lock a - got it!')\n",
    "    a += 10\n",
    "    b += 10\n",
    "\n",
    "    print('Thread2 releasing both locks')\n",
    "    block.release()\n",
    "    alock.release()\n",
    "\n",
    "\n",
    "t1 = threading.Thread(target = thread2)\n",
    "t1.start()\n",
    "t2 = threading.Thread(target = thread1)\n",
    "t2.start()\n",
    "t1.join()\n",
    "t2.join()"
   ]
  },
  {
   "cell_type": "markdown",
   "metadata": {},
   "source": [
    "Z punktu widzenia programisty aplikacja ma do wykonania pewne zadania, nie interesuje go ich zrównoleglanie."
   ]
  },
  {
   "cell_type": "code",
   "execution_count": 64,
   "metadata": {},
   "outputs": [
    {
     "name": "stdout",
     "output_type": "stream",
     "text": [
      "S 1  Sat Apr  6 11:41:52 2019\n",
      "E 1  Sat Apr  6 11:41:57 2019\n",
      "1\n",
      "S 2  Sat Apr  6 11:41:57 2019\n",
      "E 2  Sat Apr  6 11:42:02 2019\n",
      "2\n"
     ]
    }
   ],
   "source": [
    "def task(taskName, delay):\n",
    "    print(\"S \" + taskName + \"  \" + time.ctime(time.time()))\n",
    "    time.sleep(delay)\n",
    "    print(\"E \" + taskName + \"  \" + time.ctime(time.time()))\n",
    "    return taskName\n",
    "\n",
    "print(task('1', 5))\n",
    "print(task('2', 5))"
   ]
  },
  {
   "cell_type": "markdown",
   "metadata": {},
   "source": [
    "Python pozwala na tworzenie pul wątków. Wtedy automatycznie zarządza wątkami przetwarzając przekazane zadania."
   ]
  },
  {
   "cell_type": "code",
   "execution_count": 69,
   "metadata": {},
   "outputs": [
    {
     "name": "stdout",
     "output_type": "stream",
     "text": [
      "S 1  Sat Apr  6 11:49:22 2019False\n",
      "\n",
      "E 1  Sat Apr  6 11:49:27 2019\n",
      "True\n",
      "1\n"
     ]
    }
   ],
   "source": [
    "from concurrent.futures import ThreadPoolExecutor, wait\n",
    "\n",
    "pool = ThreadPoolExecutor(2)\n",
    "\n",
    "future = pool.submit(task, *('1', 5))\n",
    "print(future.done())\n",
    "time.sleep(6)\n",
    "print(future.done())\n",
    "print(future.result())"
   ]
  },
  {
   "cell_type": "markdown",
   "metadata": {},
   "source": [
    "Metoda `wait(lista zadań)` czeka aż wszystkie zadania zostaną zrealizowane."
   ]
  },
  {
   "cell_type": "code",
   "execution_count": 71,
   "metadata": {},
   "outputs": [
    {
     "name": "stdout",
     "output_type": "stream",
     "text": [
      "S 1  Sat Apr  6 11:49:33 2019\n",
      "S 2  Sat Apr  6 11:49:33 2019\n",
      "E 1  Sat Apr  6 11:49:38 2019\n",
      "E 2  Sat Apr  6 11:49:38 2019\n",
      "1\n",
      "2\n"
     ]
    }
   ],
   "source": [
    "pool = ThreadPoolExecutor()\n",
    "\n",
    "future1 = pool.submit(task, *('1', 5))\n",
    "future2 = pool.submit(task, *('2', 5))\n",
    "tasks = [future1, future2]\n",
    "wait(tasks)\n",
    "print(future1.result())\n",
    "print(future2.result())"
   ]
  },
  {
   "cell_type": "markdown",
   "metadata": {},
   "source": [
    "Zysk z współbieżności w Python zależy od implementacji. Niektóre z nich mają zaimplementowany tzw. GIL (Global Intepreter Lock), który blokuje równoległe wykonanie wątków (poza operacjami typu oczekiwanie na dane), ale dzięki temu zabezpiecza przed błędami synchronizacji. Najlepiej korzystać z dedykowanych bibliotek w przypadku obliczeń.\n",
    "\n",
    "### Zadanie\n",
    "Utwórz listę wyników w poniższej implementacji. Wyniki można pobrać za pomocą metody `result()` z każdego zadania.\n",
    "\n",
    "Sprawdź poniższą implementację używając `%%time` dla różnych wielkości `size`. Sprawdź również wykonanie jednowątkowe."
   ]
  },
  {
   "cell_type": "code",
   "execution_count": null,
   "metadata": {
    "collapsed": true
   },
   "outputs": [],
   "source": [
    "import random\n",
    "mylist = [random.randint(0, 100000000) for k in range(10000000)]\n",
    "\n",
    "def find_min(l, lo, hi):\n",
    "    min = l[lo]\n",
    "    for i in range(lo, hi):\n",
    "        if l[i] < min:\n",
    "            min = l[i]\n",
    "    return min;\n",
    "\n",
    "pool = ThreadPoolExecutor()\n",
    "size = 100000\n",
    "\n",
    "lo = 0\n",
    "hi = size\n",
    "tasks = []\n",
    "\n",
    "while lo < len(mylist):\n",
    "    tasks.append(pool.submit(find_min, *(mylist, lo, hi)))\n",
    "    lo += size\n",
    "    hi += size\n",
    "    if (hi > len(mylist)):\n",
    "        hi = len(mylist)\n",
    "\n",
    "wait(tasks)\n",
    "print(find_min(solutions, 0, len(solutions)))"
   ]
  },
  {
   "cell_type": "code",
   "execution_count": null,
   "metadata": {
    "collapsed": true
   },
   "outputs": [],
   "source": [
    "TEST"
   ]
  },
  {
   "cell_type": "code",
   "execution_count": 87,
   "metadata": {
    "collapsed": true
   },
   "outputs": [],
   "source": [
    "import random\n",
    "mylist = [random.randint(0, 100000000) for k in range(10000000)]"
   ]
  },
  {
   "cell_type": "code",
   "execution_count": 88,
   "metadata": {},
   "outputs": [
    {
     "name": "stdout",
     "output_type": "stream",
     "text": [
      "4\n"
     ]
    }
   ],
   "source": [
    "def find_min(l, lo, hi):\n",
    "    min = l[lo]\n",
    "    for i in range(lo, hi):\n",
    "        if l[i] < min:\n",
    "            min = l[i]\n",
    "    return min;\n",
    "\n",
    "pool = ThreadPoolExecutor()\n",
    "size = 100000\n",
    "\n",
    "lo = 0\n",
    "hi = size\n",
    "tasks = []\n",
    "\n",
    "while lo < len(mylist):\n",
    "    tasks.append(pool.submit(find_min, *(mylist, lo, hi)))\n",
    "    lo += size\n",
    "    hi += size\n",
    "    if (hi > len(mylist)):\n",
    "        hi = len(mylist)\n",
    "\n",
    "wait(tasks)\n",
    "solutions = list(map(lambda t: t.result(),tasks))\n",
    "print(find_min(solutions, 0, len(solutions)))"
   ]
  },
  {
   "cell_type": "code",
   "execution_count": 91,
   "metadata": {},
   "outputs": [
    {
     "name": "stdout",
     "output_type": "stream",
     "text": [
      "4\n"
     ]
    }
   ],
   "source": [
    "#wspolbierzność bardzo wolno podnosil sie proces pythonowy\n",
    "from concurrent.futures import ProcessPoolExecutor\n",
    "\n",
    "def find_min(l, lo, hi):\n",
    "    min = l[lo]\n",
    "    for i in range(lo, hi):\n",
    "        if l[i] < min:\n",
    "            min = l[i]\n",
    "    return min;\n",
    "\n",
    "pool = ProcessPoolExecutor()\n",
    "size = 100000\n",
    "\n",
    "lo = 0\n",
    "hi = size\n",
    "tasks = []\n",
    "\n",
    "while lo < len(mylist):\n",
    "    tasks.append(pool.submit(find_min, *(mylist, lo, hi)))\n",
    "    lo += size\n",
    "    hi += size\n",
    "    if (hi > len(mylist)):\n",
    "        hi = len(mylist)\n",
    "\n",
    "wait(tasks)\n",
    "solutions = list(map(lambda t: t.result(),tasks))\n",
    "print(find_min(solutions, 0, len(solutions)))"
   ]
  },
  {
   "cell_type": "code",
   "execution_count": null,
   "metadata": {
    "collapsed": true
   },
   "outputs": [],
   "source": []
  }
 ],
 "metadata": {
  "kernelspec": {
   "display_name": "Python 3",
   "language": "python",
   "name": "python3"
  },
  "language_info": {
   "codemirror_mode": {
    "name": "ipython",
    "version": 3
   },
   "file_extension": ".py",
   "mimetype": "text/x-python",
   "name": "python",
   "nbconvert_exporter": "python",
   "pygments_lexer": "ipython3",
   "version": "3.6.1"
  }
 },
 "nbformat": 4,
 "nbformat_minor": 2
}
