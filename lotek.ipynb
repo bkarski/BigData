{
 "cells": [
  {
   "cell_type": "code",
   "execution_count": 3,
   "metadata": {},
   "outputs": [
    {
     "name": "stdout",
     "output_type": "stream",
     "text": [
      "[ 1  2  3  5 18 23]\n",
      "Iterations: 5.68126e+06\n",
      "Probability = 1.76e-07\n",
      "[ 1  2  3  5 18 23]\n"
     ]
    }
   ],
   "source": [
    "import numpy as np\n",
    " \n",
    "def lotto_numbers():\n",
    "    ok = False\n",
    "    while not ok:\n",
    "        x = np.random.choice(49,6,replace=False)\n",
    "        x.sort()\n",
    "        tmp = np.where(x == 0)\n",
    "        (m, )= tmp[0].shape\n",
    "        if(m == 0):\n",
    "            ok = True\n",
    "    return x\n",
    " \n",
    "fav = lotto_numbers()  # choose your favourite 6 numbers\n",
    "print(fav)\n",
    " \n",
    "match = False; i = 0\n",
    "while not match:\n",
    "    tmp = lotto_numbers()\n",
    "    cmp = (tmp == fav)\n",
    "    i += 1\n",
    "    if cmp.all():\n",
    "        match = True\n",
    " \n",
    "print(\"Iterations: %g\\nProbability = %.2e\" % (i,1./i) )\n",
    "print(tmp)"
   ]
  },
  {
   "cell_type": "code",
   "execution_count": null,
   "metadata": {
    "collapsed": true
   },
   "outputs": [],
   "source": []
  }
 ],
 "metadata": {
  "kernelspec": {
   "display_name": "Python 3",
   "language": "python",
   "name": "python3"
  },
  "language_info": {
   "codemirror_mode": {
    "name": "ipython",
    "version": 3
   },
   "file_extension": ".py",
   "mimetype": "text/x-python",
   "name": "python",
   "nbconvert_exporter": "python",
   "pygments_lexer": "ipython3",
   "version": "3.6.1"
  }
 },
 "nbformat": 4,
 "nbformat_minor": 2
}
