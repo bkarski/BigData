{
 "cells": [
  {
   "cell_type": "code",
   "execution_count": 1,
   "metadata": {
    "collapsed": true
   },
   "outputs": [],
   "source": [
    "from pyspark.sql import SparkSession\n",
    "from pyspark.sql import Row\n",
    "from pyspark.sql import functions as f\n",
    "from pyspark.sql import Window\n",
    "\n",
    "spark = SparkSession.builder \\\n",
    "    .appName('DataFrame') \\\n",
    "    .master('local[*]') \\\n",
    "    .getOrCreate()"
   ]
  },
  {
   "cell_type": "markdown",
   "metadata": {},
   "source": [
    "----\n",
    "\n",
    "## Adult Data Set\n",
    "\n",
    "https://archive.ics.uci.edu/ml/datasets/adult"
   ]
  },
  {
   "cell_type": "code",
   "execution_count": 8,
   "metadata": {},
   "outputs": [
    {
     "name": "stdout",
     "output_type": "stream",
     "text": [
      "+---+----------------+---------+-------------+------------------+-----------------+\n",
      "|age|       workclass|education|education-num|    marital-status|       occupation|\n",
      "+---+----------------+---------+-------------+------------------+-----------------+\n",
      "| 39|       State-gov|Bachelors|           13|     Never-married|     Adm-clerical|\n",
      "| 50|Self-emp-not-inc|Bachelors|           13|Married-civ-spouse|  Exec-managerial|\n",
      "| 38|         Private|  HS-grad|            9|          Divorced|Handlers-cleaners|\n",
      "+---+----------------+---------+-------------+------------------+-----------------+\n",
      "only showing top 3 rows\n",
      "\n",
      "+-------------+-----+----+------------+------------+--------------+\n",
      "| relationship| race| sex|capital-gain|capital-loss|hours-per-week|\n",
      "+-------------+-----+----+------------+------------+--------------+\n",
      "|Not-in-family|White|Male|        2174|           0|            40|\n",
      "|      Husband|White|Male|           0|           0|            13|\n",
      "|Not-in-family|White|Male|           0|           0|            40|\n",
      "+-------------+-----+----+------------+------------+--------------+\n",
      "only showing top 3 rows\n",
      "\n",
      "+--------------+--------+\n",
      "|native-country|earnings|\n",
      "+--------------+--------+\n",
      "| United-States|   <=50K|\n",
      "| United-States|   <=50K|\n",
      "| United-States|   <=50K|\n",
      "+--------------+--------+\n",
      "only showing top 3 rows\n",
      "\n"
     ]
    }
   ],
   "source": [
    "col_names = [\"age\", \"workclass\", \"fnlwgt\", \"education\", \"education-num\",\"marital-status\", \"occupation\", \n",
    "             \"relationship\", \"race\", \"sex\", \"capital-gain\", \"capital-loss\", \"hours-per-week\", \n",
    "             \"native-country\", \"earnings\"]\n",
    "\n",
    "df = spark.read.csv(\"adult.data\", header=False, inferSchema=True, ignoreLeadingWhiteSpace=True)\n",
    "\n",
    "df = df.select(*[f.col(old).alias(new) for old, new in zip(df.columns, col_names)]).drop(\"fnlwgt\").dropna(\"any\")\n",
    "\n",
    "df.select(\"age\", \"workclass\", \"education\", \"education-num\",\"marital-status\", \"occupation\").show(3)\n",
    "df.select(\"relationship\", \"race\", \"sex\", \"capital-gain\", \"capital-loss\", \"hours-per-week\").show(3)\n",
    "df.select(\"native-country\", \"earnings\").show(3)\n"
   ]
  },
  {
   "cell_type": "markdown",
   "metadata": {},
   "source": [
    "> **ZADANIA**:\n",
    "1. Oblicz średnią `capital-gain` oraz `capital-loss` dla każdej narodowości - wynik uporządkuj malejąco po średnim zysku\n",
    "2. Oblicz jaki procent kobiet zarabia ponad 50K w podziale na wykształcenie - wynik zaokrąglij do 2 miejsc po przecinku\n",
    "3. Oblicz ile godzin średnio w ciągu tygodnia pracują osoby `Never-married` w stosunku do reszty społeczeństwa\n",
    "4. W jakim wieku najczęściej zarabia sie powyżej 50K?\n",
    "5. W podziale ze względu na zmienną `race` oblicz stosunek liczby kobiet do mężczyzn\n",
    "6. Oblicz różnicę pomiędzy średnim czasem pracy osób uzyskujących `capital-gain` a resztą populacji\n",
    "7. Oblicz róznicę wieku do średniego wieku osób z danym poziomem wykształcenia"
   ]
  },
  {
   "cell_type": "code",
   "execution_count": 14,
   "metadata": {
    "collapsed": true
   },
   "outputs": [
    {
     "name": "stdout",
     "output_type": "stream",
     "text": [
      "+------------------+------------------+------------------+\n",
      "|    native-country|          avg_gain|          avg_loss|\n",
      "+------------------+------------------+------------------+\n",
      "|             India|           3604.92|            131.12|\n",
      "|             Japan|2546.2258064516127| 57.53225806451613|\n",
      "|            Taiwan|2147.0392156862745| 154.8235294117647|\n",
      "|              Iran|2044.6511627906978|126.81395348837209|\n",
      "|             South|         1869.7375|           169.425|\n",
      "|                 ?|1806.5180102915951|118.26586620926244|\n",
      "|            Canada|1504.1322314049587|129.93388429752065|\n",
      "|Dominican-Republic| 1476.057142857143| 25.17142857142857|\n",
      "|            Greece| 1283.896551724138|295.44827586206895|\n",
      "|     United-States|1089.2299280082277| 88.51059307507714|\n",
      "|          Cambodia| 1027.842105263158|183.05263157894737|\n",
      "|       Philippines|1018.3434343434343| 98.95454545454545|\n",
      "|           Germany| 887.0948905109489| 77.97810218978103|\n",
      "|           England| 864.7222222222222| 82.75555555555556|\n",
      "|           Hungary| 716.6153846153846|128.30769230769232|\n",
      "|            Poland| 684.2833333333333| 34.18333333333333|\n",
      "|           Vietnam| 660.5970149253732| 87.29850746268657|\n",
      "|             Italy| 611.5068493150685| 27.08219178082192|\n",
      "|       El-Salvador| 574.3207547169811| 31.11320754716981|\n",
      "|            France| 547.0344827586207|               0.0|\n",
      "+------------------+------------------+------------------+\n",
      "only showing top 20 rows\n",
      "\n"
     ]
    }
   ],
   "source": [
    "#Oblicz średnią capital-gain oraz capital-loss dla każdej narodowości - wynik uporządkuj malejąco po średnim zysku,\n",
    "\n",
    "df.groupBy(\"native-country\").\\\n",
    "agg(f.avg(\"capital-gain\").alias(\"avg_gain\"),\n",
    "   f.avg(\"capital-loss\").alias(\"avg_loss\")).\\\n",
    "orderBy(\"avg_gain\", ascending=False).show()"
   ]
  },
  {
   "cell_type": "code",
   "execution_count": 30,
   "metadata": {},
   "outputs": [
    {
     "name": "stdout",
     "output_type": "stream",
     "text": [
      "+------------+----+\n",
      "|   education|   %|\n",
      "+------------+----+\n",
      "|     1st-4th| 0.0|\n",
      "|   Preschool| 0.0|\n",
      "|        10th|0.01|\n",
      "|     7th-8th|0.01|\n",
      "|     5th-6th|0.02|\n",
      "|        11th|0.02|\n",
      "|         9th|0.03|\n",
      "|        12th|0.03|\n",
      "|Some-college|0.07|\n",
      "|     HS-grad|0.07|\n",
      "|  Assoc-acdm|0.13|\n",
      "|   Assoc-voc|0.13|\n",
      "|   Bachelors|0.21|\n",
      "|     Masters|0.33|\n",
      "| Prof-school|0.46|\n",
      "|   Doctorate|0.58|\n",
      "+------------+----+\n",
      "\n"
     ]
    }
   ],
   "source": [
    "#Oblicz jaki procent kobiet zarabia ponad 50K w podziale na wykształcenie - wynik zaokrąglij do 2 miejsc po przecinku\n",
    "\n",
    "df.filter(df.sex == \"Female\").\\\n",
    "withColumn('high_salary', f.when(f.col(\"earnings\")!='<=50K', 1).\\\n",
    "          otherwise(0)).groupBy(\"education\").\\\n",
    "agg(f.round( (f.sum(f.col(\"high_salary\"))/f.count(\"high_salary\")),2).\\\n",
    "alias(\"%\")).orderBy(\"%\").show()"
   ]
  },
  {
   "cell_type": "code",
   "execution_count": 48,
   "metadata": {},
   "outputs": [
    {
     "name": "stdout",
     "output_type": "stream",
     "text": [
      "+-----+-------------------+\n",
      "|is_NM|avg(hours-per-week)|\n",
      "+-----+-------------------+\n",
      "|   no|  42.14526007861779|\n",
      "|  yes|   36.9399981278667|\n",
      "+-----+-------------------+\n",
      "\n"
     ]
    }
   ],
   "source": [
    "#Oblicz ile godzin średnio w ciągu tygodnia pracują osoby Never-married w stosunku do reszty społeczeństwa\n",
    "df.select('hours-per-week',\n",
    "f.when(f.col('marital-status')=='Never-married','yes').\\\n",
    "         otherwise('no').alias('is_NM')).groupBy('is_NM').avg().show()"
   ]
  },
  {
   "cell_type": "code",
   "execution_count": 53,
   "metadata": {},
   "outputs": [
    {
     "name": "stdout",
     "output_type": "stream",
     "text": [
      "+---+----+\n",
      "|age|   %|\n",
      "+---+----+\n",
      "| 21| 0.0|\n",
      "| 17| 0.0|\n",
      "| 85| 0.0|\n",
      "| 82| 0.0|\n",
      "| 88| 0.0|\n",
      "| 20| 0.0|\n",
      "| 87| 0.0|\n",
      "| 86| 0.0|\n",
      "| 19| 0.0|\n",
      "| 18| 0.0|\n",
      "| 23|0.01|\n",
      "| 22|0.02|\n",
      "| 24|0.04|\n",
      "| 25|0.06|\n",
      "| 26|0.08|\n",
      "| 80|0.09|\n",
      "| 84| 0.1|\n",
      "| 27| 0.1|\n",
      "| 76|0.11|\n",
      "| 72|0.13|\n",
      "+---+----+\n",
      "only showing top 20 rows\n",
      "\n"
     ]
    }
   ],
   "source": [
    "#W jakim wieku najczęściej zarabia sie powyżej 50K?\n",
    "df.select('age',f.when(f.col(\"earnings\")!='<=50K', 1).\\\n",
    "          otherwise(0).alias('high_salary')).groupBy(\"age\").\\\n",
    "agg(f.round( (f.sum(f.col(\"high_salary\"))/f.count(\"high_salary\")),2).\\\n",
    "alias('%')).orderBy('%', asceding=False).show()"
   ]
  },
  {
   "cell_type": "code",
   "execution_count": null,
   "metadata": {
    "collapsed": true
   },
   "outputs": [],
   "source": []
  },
  {
   "cell_type": "code",
   "execution_count": null,
   "metadata": {
    "collapsed": true
   },
   "outputs": [],
   "source": []
  },
  {
   "cell_type": "code",
   "execution_count": null,
   "metadata": {
    "collapsed": true
   },
   "outputs": [],
   "source": []
  },
  {
   "cell_type": "code",
   "execution_count": null,
   "metadata": {
    "collapsed": true
   },
   "outputs": [],
   "source": []
  },
  {
   "cell_type": "markdown",
   "metadata": {},
   "source": [
    "----\n",
    "\n",
    "## SalaryHistory"
   ]
  },
  {
   "cell_type": "code",
   "execution_count": null,
   "metadata": {
    "collapsed": true
   },
   "outputs": [],
   "source": [
    "import random\n",
    "random.seed(123)\n",
    "\n",
    "years = 6\n",
    "names = ['Alice', 'Betty', 'Chris', 'Dan', 'Greg']\n",
    "names_count = len(names)\n",
    "names = sorted(names*years)\n",
    "year = [y for y in range(2005, 2005+years)] * names_count\n",
    "starting_salary = [round(random.gauss(4000, 1000),2) for i in range(names_count)]\n",
    "salary = [0 for i in range(years * names_count)]\n",
    "salary[::years] = starting_salary\n",
    "for n in range(names_count):\n",
    "    for y in range(years-1):\n",
    "        index = (years*n+1)+y\n",
    "        salary[index] = round(salary[index-1]*(1+random.gauss(0.1,0.09)),2)"
   ]
  },
  {
   "cell_type": "code",
   "execution_count": null,
   "metadata": {
    "collapsed": true
   },
   "outputs": [],
   "source": [
    "salaryHistory = spark.createDataFrame([Row(name=n, year=y, salary=s) for n,y,s in zip(names, year, salary)])\\\n",
    ".filter((f.col('name') != 'Greg') | (f.col('year') != 2006))\\\n",
    ".union(spark.createDataFrame([Row('Alice', 3000, 2005)])).orderBy(\"name\",\"year\")"
   ]
  },
  {
   "cell_type": "code",
   "execution_count": null,
   "metadata": {
    "collapsed": true
   },
   "outputs": [],
   "source": [
    "salaryHistory.show(30)"
   ]
  },
  {
   "cell_type": "markdown",
   "metadata": {},
   "source": [
    "> **ZADANIA**:\n",
    "1. Oblicz ile razy powtarza się każde z imion w salaryHistory\n",
    "2. Oblicz średnią, minimum i maksimum z pensji w każdym roku, lata posortuj malejąco, wyniki zaokrąglij do pełnych wartości\n",
    "3. Oblicz różnicę między pensją w danym roku a średnią pensją danej osoby na przestrzeni wszystkich lat\n",
    "4. Porównaj pensje ludzi pomiedzy najwcześniejszym i najpóźniejszym rokiem ich pracy\n",
    "5. Czy komukolwiek obniżyła się pensja w stosunku do roku poprzedniego? **a.** Ile osób było kiedykolwiek w takiej sytuacji? **b.** Jaki jest rozkład częstości takich przypadków w zależności od roku?\n",
    "6. Oblicz różnicę w pensjach w stosuku do: **a.** najwyższej pensji danej osoby, **b.** drugiej najwyższej pensji danej osoby\n",
    "7. Oblicz medianę wszystkich zarobków\n",
    "8. Oblicz medianę zarobków poszczególnych osób"
   ]
  },
  {
   "cell_type": "code",
   "execution_count": null,
   "metadata": {
    "collapsed": true
   },
   "outputs": [],
   "source": []
  },
  {
   "cell_type": "code",
   "execution_count": null,
   "metadata": {
    "collapsed": true
   },
   "outputs": [],
   "source": []
  },
  {
   "cell_type": "code",
   "execution_count": null,
   "metadata": {
    "collapsed": true
   },
   "outputs": [],
   "source": []
  },
  {
   "cell_type": "code",
   "execution_count": null,
   "metadata": {
    "collapsed": true
   },
   "outputs": [],
   "source": []
  },
  {
   "cell_type": "code",
   "execution_count": null,
   "metadata": {
    "collapsed": true
   },
   "outputs": [],
   "source": []
  },
  {
   "cell_type": "code",
   "execution_count": null,
   "metadata": {
    "collapsed": true
   },
   "outputs": [],
   "source": []
  },
  {
   "cell_type": "code",
   "execution_count": null,
   "metadata": {
    "collapsed": true
   },
   "outputs": [],
   "source": []
  },
  {
   "cell_type": "code",
   "execution_count": null,
   "metadata": {
    "collapsed": true
   },
   "outputs": [],
   "source": []
  },
  {
   "cell_type": "code",
   "execution_count": null,
   "metadata": {
    "collapsed": true
   },
   "outputs": [],
   "source": []
  },
  {
   "cell_type": "code",
   "execution_count": null,
   "metadata": {
    "collapsed": true
   },
   "outputs": [],
   "source": []
  },
  {
   "cell_type": "code",
   "execution_count": null,
   "metadata": {
    "collapsed": true
   },
   "outputs": [],
   "source": []
  },
  {
   "cell_type": "code",
   "execution_count": null,
   "metadata": {
    "collapsed": true
   },
   "outputs": [],
   "source": []
  }
 ],
 "metadata": {
  "kernelspec": {
   "display_name": "Python 3",
   "language": "python",
   "name": "python3"
  },
  "language_info": {
   "codemirror_mode": {
    "name": "ipython",
    "version": 3
   },
   "file_extension": ".py",
   "mimetype": "text/x-python",
   "name": "python",
   "nbconvert_exporter": "python",
   "pygments_lexer": "ipython3",
   "version": "3.6.1"
  }
 },
 "nbformat": 4,
 "nbformat_minor": 2
}
