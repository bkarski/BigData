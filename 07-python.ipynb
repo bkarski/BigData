{
 "cells": [
  {
   "cell_type": "markdown",
   "metadata": {},
   "source": [
    "# Wprowadzenie do Python (część 2)"
   ]
  },
  {
   "cell_type": "markdown",
   "metadata": {},
   "source": [
    "## Wyjątki\n",
    "\n",
    "Wyjątki to błędy, które mogą pojawić się podczas wykonania programu. Po wystąpieniu wyjątku program jest przerywany i wznawiany w miejscu, w którym przewidziano obsługę błędu."
   ]
  },
  {
   "cell_type": "code",
   "execution_count": 157,
   "metadata": {},
   "outputs": [],
   "source": [
    "class MyException():\n",
    "    pass\n",
    "\n",
    "def divide(x, y):\n",
    "    try:\n",
    "        if x == 0:\n",
    "            raise ZeroDivisionError('ojej')\n",
    "        result = x / y\n",
    "        raise MyException\n",
    "        print(\"divided\")\n",
    "    except(ZeroDivisionError, TypeError) as e:\n",
    "        print(\"zero or type\")\n",
    "        print(e)\n",
    "        print(str(e))\n",
    "        print(repr(e))\n",
    "    except Myexception:\n",
    "        pass\n",
    "    else:\n",
    "        print(\"result = \", result)\n",
    "    finally:\n",
    "        print(\"good bye\")"
   ]
  },
  {
   "cell_type": "code",
   "execution_count": 23,
   "metadata": {
    "collapsed": true
   },
   "outputs": [],
   "source": [
    "def divide(x, y):\n",
    "    try:\n",
    "        result = x / y\n",
    "        print(\"divided\")\n",
    "    except ZeroDivisionError:\n",
    "        print(\"zero\")\n",
    "    else:\n",
    "        print(\"result = \", result)\n",
    "    finally:\n",
    "        print(\"good bye\")"
   ]
  },
  {
   "cell_type": "code",
   "execution_count": 158,
   "metadata": {},
   "outputs": [
    {
     "name": "stdout",
     "output_type": "stream",
     "text": [
      "zero or type\n",
      "exceptions must derive from BaseException\n",
      "exceptions must derive from BaseException\n",
      "TypeError('exceptions must derive from BaseException',)\n",
      "good bye\n"
     ]
    }
   ],
   "source": [
    "divide(1, 2)"
   ]
  },
  {
   "cell_type": "code",
   "execution_count": 159,
   "metadata": {},
   "outputs": [
    {
     "name": "stdout",
     "output_type": "stream",
     "text": [
      "zero or type\n",
      "division by zero\n",
      "division by zero\n",
      "ZeroDivisionError('division by zero',)\n",
      "good bye\n"
     ]
    }
   ],
   "source": [
    "divide(1, 0)"
   ]
  },
  {
   "cell_type": "markdown",
   "metadata": {},
   "source": [
    "### Zadanie\n",
    "\n",
    "Zmodyfikuj funkcję divide, aby obsłużyć nowy wyjątek."
   ]
  },
  {
   "cell_type": "code",
   "execution_count": 26,
   "metadata": {
    "collapsed": true
   },
   "outputs": [],
   "source": [
    "def divide(x, y):\n",
    "    try:\n",
    "        result = x / y\n",
    "        print(\"divided\")\n",
    "    except ZeroDivisionError:\n",
    "        print(\"zero\")\n",
    "    except TypeError:\n",
    "        print(\"TypeError string zamiast liczby\")\n",
    "    else:\n",
    "        print(\"result = \", result)\n",
    "    finally:\n",
    "        print(\"good bye\")"
   ]
  },
  {
   "cell_type": "code",
   "execution_count": 27,
   "metadata": {},
   "outputs": [
    {
     "name": "stdout",
     "output_type": "stream",
     "text": [
      "TypeError string zamiast liczby\n",
      "good bye\n"
     ]
    }
   ],
   "source": [
    "divide('a', 1)"
   ]
  },
  {
   "cell_type": "markdown",
   "metadata": {},
   "source": [
    "## Klasy\n",
    "\n",
    "Python umożliwia programowanie obiektowe. Możliwe jest dziedziczenie. Wszystkie składowe klasy są publiczne, a funkcje podlegają wirtualizacji."
   ]
  },
  {
   "cell_type": "code",
   "execution_count": 43,
   "metadata": {
    "collapsed": true
   },
   "outputs": [],
   "source": [
    "class Calculator():\n",
    "    static_value = 1\n",
    "\n",
    "    def __init__(self, base_value):\n",
    "        self.class_value = base_value\n",
    "        \n",
    "    def sum(self, value):\n",
    "        return self.static_value + self.class_value + value"
   ]
  },
  {
   "cell_type": "code",
   "execution_count": 44,
   "metadata": {},
   "outputs": [
    {
     "name": "stdout",
     "output_type": "stream",
     "text": [
      "1\n",
      "1\n",
      "3\n"
     ]
    }
   ],
   "source": [
    "a = Calculator(1)\n",
    "print(Calculator.static_value)\n",
    "print(a.class_value)\n",
    "print(a.sum(1))"
   ]
  },
  {
   "cell_type": "code",
   "execution_count": 40,
   "metadata": {},
   "outputs": [
    {
     "name": "stdout",
     "output_type": "stream",
     "text": [
      "1\n",
      "10\n",
      "16\n"
     ]
    }
   ],
   "source": [
    "b = Calculator(10)\n",
    "print(Calculator.static_value)\n",
    "print(b.class_value)\n",
    "print(b.sum(5))\n"
   ]
  },
  {
   "cell_type": "code",
   "execution_count": 45,
   "metadata": {
    "collapsed": true
   },
   "outputs": [],
   "source": [
    "class SuperCalculator(Calculator):\n",
    "    def __init__(self, base_value):\n",
    "        Calculator.static_value = 10\n",
    "        super().__init__(base_value)\n",
    "        self.class_value += 1\n",
    "        \n",
    "    def sum(self, value):\n",
    "        return self.static_value + self.class_value + value * 2"
   ]
  },
  {
   "cell_type": "code",
   "execution_count": 48,
   "metadata": {},
   "outputs": [
    {
     "name": "stdout",
     "output_type": "stream",
     "text": [
      "10\n",
      "10\n",
      "10\n",
      "2\n",
      "14\n"
     ]
    }
   ],
   "source": [
    "b = SuperCalculator(1)\n",
    "c = SuperCalculator(2)\n",
    "print(SuperCalculator.static_value)\n",
    "print(b.static_value)\n",
    "print(c.static_value)\n",
    "print(b.class_value)\n",
    "print(b.sum(1))"
   ]
  },
  {
   "cell_type": "markdown",
   "metadata": {},
   "source": [
    "### Zadanie\n",
    "\n",
    "Utwórz klasę Person przechowującą imię i nazwisko wraz z metodą drukującą dane osoby w formacie Imię NAZWISKO (bez względu jak zostały wcześniej ustawione). Utwórz obiekt nowej klasy i wywołaj jego metodę. Wskazówka: skorzystaj z `title()` i `upper()`, domyślna metoda zwracająca obiekt w czytelnej formie ma zazwyczaj nazwę `__str__`."
   ]
  },
  {
   "cell_type": "code",
   "execution_count": 55,
   "metadata": {},
   "outputs": [
    {
     "name": "stdout",
     "output_type": "stream",
     "text": [
      "Karol ZDUNCZYK\n"
     ]
    }
   ],
   "source": [
    "class Person():\n",
    "    def __init__(self, i, n):\n",
    "        self.imie = i\n",
    "        self.nazwisko = n\n",
    "    \n",
    "    def __str__(self):\n",
    "        return self.imie.title() + ' ' + self.nazwisko.upper()\n",
    "\n",
    "p = Person(\"karol\", \"zdunczyk\")\n",
    "print(p)"
   ]
  },
  {
   "cell_type": "markdown",
   "metadata": {},
   "source": [
    "## Wyrażenia lambda"
   ]
  },
  {
   "cell_type": "code",
   "execution_count": 56,
   "metadata": {},
   "outputs": [
    {
     "name": "stdout",
     "output_type": "stream",
     "text": [
      "[1, 4, 9, 16, 25]\n"
     ]
    }
   ],
   "source": [
    "items = [1, 2, 3, 4, 5]\n",
    "squared = []\n",
    "for i in items:\n",
    "    squared.append(i**2)\n",
    "print(squared)\n"
   ]
  },
  {
   "cell_type": "code",
   "execution_count": 57,
   "metadata": {},
   "outputs": [
    {
     "name": "stdout",
     "output_type": "stream",
     "text": [
      "[1, 4, 9, 16, 25]\n"
     ]
    }
   ],
   "source": [
    "items = [1, 2, 3, 4, 5]\n",
    "\n",
    "def square(x):\n",
    "    return x**2\n",
    "\n",
    "squared = list(map(square, items))\n",
    "print(squared)"
   ]
  },
  {
   "cell_type": "markdown",
   "metadata": {},
   "source": [
    "Wyrażenia lambda nazywane są inaczej funkcjami anonimowymi."
   ]
  },
  {
   "cell_type": "code",
   "execution_count": 58,
   "metadata": {},
   "outputs": [
    {
     "name": "stdout",
     "output_type": "stream",
     "text": [
      "[1, 4, 9, 16, 25]\n"
     ]
    }
   ],
   "source": [
    "items = [1, 2, 3, 4, 5]\n",
    "square = lambda x: x**2\n",
    "squared = list(map(square, items))\n",
    "print(squared)"
   ]
  },
  {
   "cell_type": "code",
   "execution_count": 59,
   "metadata": {},
   "outputs": [
    {
     "name": "stdout",
     "output_type": "stream",
     "text": [
      "{1, 4, 9, 16, 25}\n"
     ]
    },
    {
     "data": {
      "text/plain": [
       "set"
      ]
     },
     "execution_count": 59,
     "metadata": {},
     "output_type": "execute_result"
    }
   ],
   "source": [
    "items = [1, 2, 3, 4, 5]\n",
    "squared = set(map(lambda x: x**2, items))\n",
    "print(squared)\n",
    "type(squared)"
   ]
  },
  {
   "cell_type": "code",
   "execution_count": 102,
   "metadata": {},
   "outputs": [
    {
     "data": {
      "text/plain": [
       "['MARCIN', 'PIOTR']"
      ]
     },
     "execution_count": 102,
     "metadata": {},
     "output_type": "execute_result"
    }
   ],
   "source": [
    "list(map(lambda x: x.upper(), {'Piotr', 'Marcin'}))"
   ]
  },
  {
   "cell_type": "code",
   "execution_count": 103,
   "metadata": {},
   "outputs": [
    {
     "data": {
      "text/plain": [
       "['ADA', 'MARCIN', 'ZEE', 'PIOTR', 'KAROL']"
      ]
     },
     "execution_count": 103,
     "metadata": {},
     "output_type": "execute_result"
    }
   ],
   "source": [
    "list(map(lambda x: x.upper(), {'Piotr','ada', 'karol','zee','Marcin'}))"
   ]
  },
  {
   "cell_type": "markdown",
   "metadata": {},
   "source": [
    "Funkcja anonimowa może mieć kilka argumentów. Wywołaj funkcję `doIt` w celu wykonania dodawania i mnożenia dwóch liczb wykorzystując wyrażenia lambda."
   ]
  },
  {
   "cell_type": "code",
   "execution_count": 121,
   "metadata": {},
   "outputs": [
    {
     "name": "stdout",
     "output_type": "stream",
     "text": [
      "1\n",
      "2\n",
      "1\n",
      "2\n"
     ]
    },
    {
     "data": {
      "text/plain": [
       "2"
      ]
     },
     "execution_count": 121,
     "metadata": {},
     "output_type": "execute_result"
    }
   ],
   "source": [
    "def doIt(operation, a, b):\n",
    "    print(a)\n",
    "    print(b)\n",
    "    return operation(a, b)\n",
    "\n",
    "doIt(lambda x, y: x+y, 1, 2)\n",
    "doIt(lambda x, y: x*y, 1, 2)"
   ]
  },
  {
   "cell_type": "markdown",
   "metadata": {},
   "source": [
    "### Zadanie\n",
    "\n",
    "Utwórz strukturę zawierającą unikalne imiona zaczynające się na 'A'. Skorzystaj z funkcji `filter`, która przyjmuje funkcję zwracającą dla danego argumentu prawdę lub fałsz, w zależności czy argument ten spełnia warunki czy też nie."
   ]
  },
  {
   "cell_type": "code",
   "execution_count": 135,
   "metadata": {},
   "outputs": [
    {
     "name": "stdout",
     "output_type": "stream",
     "text": [
      "{'Adam', 'Aleksandra', 'Aldona', 'Anna'}\n"
     ]
    }
   ],
   "source": [
    "names = ['Katarzyna', 'Aldona', 'Adam', 'Piotr', 'Małgorzata', 'Aleksandra', 'Anna', 'Zofia', 'Anna', 'Rafał']\n",
    "l = set(filter(lambda x: x[0]=='A', names))\n",
    "print(l)"
   ]
  },
  {
   "cell_type": "markdown",
   "metadata": {},
   "source": [
    "### Zadanie\n",
    "\n",
    "Znajdź sumę pierwszych 10 liczb. Skorzystaj z funkcji `reduce`. Wskazówka: funkcja lambda przyjmuje jako argument dotychczas wyznaczoną wartość i kolejny element."
   ]
  },
  {
   "cell_type": "code",
   "execution_count": 148,
   "metadata": {},
   "outputs": [
    {
     "name": "stdout",
     "output_type": "stream",
     "text": [
      "362880\n"
     ]
    }
   ],
   "source": [
    "from functools import reduce\n",
    "reduce(lambda x, y: x*y, range(1, 10))\n",
    "#print(reduce(lambda x, y: x*y, range(1, 10, 1)))"
   ]
  },
  {
   "cell_type": "markdown",
   "metadata": {},
   "source": [
    "## Sortowanie\n",
    "\n",
    "Listy w Pythonie mogą być sortowane w miejscu."
   ]
  },
  {
   "cell_type": "code",
   "execution_count": 160,
   "metadata": {},
   "outputs": [
    {
     "name": "stdout",
     "output_type": "stream",
     "text": [
      "['Adam', 'Aldona', 'Aleksandra', 'Anna', 'Elżbieta', 'Katarzyna', 'Małgorzata', 'Piotr', 'Rafał', 'Zofia']\n",
      "['Zofia', 'Rafał', 'Piotr', 'Małgorzata', 'Katarzyna', 'Elżbieta', 'Anna', 'Aleksandra', 'Aldona', 'Adam']\n",
      "['Anna', 'Adam', 'Zofia', 'Rafał', 'Piotr', 'Aldona', 'Elżbieta', 'Katarzyna', 'Małgorzata', 'Aleksandra']\n"
     ]
    }
   ],
   "source": [
    "names = ['Katarzyna', 'Aldona', 'Adam', 'Piotr', 'Małgorzata', 'Aleksandra', 'Anna', 'Zofia', 'Elżbieta', 'Rafał']\n",
    "names.sort()\n",
    "print(names)\n",
    "names.sort(reverse = True)\n",
    "print(names)\n",
    "names.sort(key = lambda x: len(x))\n",
    "print(names)"
   ]
  },
  {
   "cell_type": "markdown",
   "metadata": {},
   "source": [
    "Można również wykorzystać funkcję `sorted`, która zwróci nową strukturę."
   ]
  },
  {
   "cell_type": "code",
   "execution_count": 161,
   "metadata": {},
   "outputs": [
    {
     "name": "stdout",
     "output_type": "stream",
     "text": [
      "['Katarzyna', 'Aldona', 'Adam', 'Piotr', 'Małgorzata', 'Aleksandra', 'Anna', 'Zofia', 'Elżbieta', 'Rafał']\n",
      "['Adam', 'Aldona', 'Aleksandra', 'Anna', 'Elżbieta', 'Katarzyna', 'Małgorzata', 'Piotr', 'Rafał', 'Zofia']\n"
     ]
    }
   ],
   "source": [
    "names = ['Katarzyna', 'Aldona', 'Adam', 'Piotr', 'Małgorzata', 'Aleksandra', 'Anna', 'Zofia', 'Elżbieta', 'Rafał']\n",
    "sortedNames = sorted(names)\n",
    "print(names)\n",
    "print(sortedNames)"
   ]
  },
  {
   "cell_type": "code",
   "execution_count": 162,
   "metadata": {},
   "outputs": [
    {
     "data": {
      "text/plain": [
       "[{'age': 18, 'name': 'Anna'},\n",
       " {'age': 20, 'name': 'Rafał'},\n",
       " {'age': 28, 'name': 'Maja'},\n",
       " {'age': 34, 'name': 'Tomasz'}]"
      ]
     },
     "execution_count": 162,
     "metadata": {},
     "output_type": "execute_result"
    }
   ],
   "source": [
    "people = [ { 'name': 'Anna', 'age': 18},  { 'name': 'Rafał', 'age': 20},  { 'name': 'Tomasz', 'age': 34}, { 'name': 'Maja', 'age': 28} ]\n",
    "sorted(people, key = lambda x: x['age'])"
   ]
  },
  {
   "cell_type": "markdown",
   "metadata": {},
   "source": [
    "### Zadanie\n",
    "\n",
    "Utwórz listę imion osób w kolejności od najstarszej do najmłodszej. Lista ma zawierać wyłącznie imiona."
   ]
  },
  {
   "cell_type": "code",
   "execution_count": 168,
   "metadata": {},
   "outputs": [
    {
     "data": {
      "text/plain": [
       "['Tomasz', 'Maja', 'Rafał', 'Anna']"
      ]
     },
     "execution_count": 168,
     "metadata": {},
     "output_type": "execute_result"
    }
   ],
   "source": [
    "list(map(lambda x:x['name'], sorted(people, key = lambda x: x['age'],reverse = True)))\n"
   ]
  },
  {
   "cell_type": "code",
   "execution_count": 169,
   "metadata": {},
   "outputs": [
    {
     "data": {
      "text/plain": [
       "{'Anna', 'Maja', 'Rafał', 'Tomasz'}"
      ]
     },
     "execution_count": 169,
     "metadata": {},
     "output_type": "execute_result"
    }
   ],
   "source": [
    "set(map(lambda x:x['name'], sorted(people, key = lambda x: x['age'],reverse = True)))\n"
   ]
  },
  {
   "cell_type": "markdown",
   "metadata": {},
   "source": [
    "### Zadanie\n",
    "\n",
    "Wykorzystując listę obiektów Car utwórz listę aut od najmniejszego przebiegu do największego."
   ]
  },
  {
   "cell_type": "code",
   "execution_count": 170,
   "metadata": {},
   "outputs": [
    {
     "name": "stdout",
     "output_type": "stream",
     "text": [
      "Tico (10010)\n",
      "Audi (20000)\n",
      "Skoda (54000)\n",
      "Polonez (6700)\n"
     ]
    }
   ],
   "source": [
    "class Car:\n",
    "    def __init__(self, name, mileage):\n",
    "        self.name = name\n",
    "        self.mileage = mileage\n",
    "    def __str__(self):\n",
    "        return self.name + ' (' + str(self.mileage) + ')'\n",
    "    \n",
    "cars = [ Car('Tico', 10010), Car('Audi', 20000), Car('Skoda', 54000), Car('Polonez', 6700)]\n",
    "for c in cars:\n",
    "    print(str(c))"
   ]
  },
  {
   "cell_type": "markdown",
   "metadata": {},
   "source": [
    "Rozszerz klasę Car o metodę `__lt__(self, inner)` i wykorzystaj `sorted` bez żadnych dodatkowych argumentów."
   ]
  },
  {
   "cell_type": "code",
   "execution_count": 176,
   "metadata": {},
   "outputs": [
    {
     "name": "stdout",
     "output_type": "stream",
     "text": [
      "Polonez (6700)\n",
      "Tico (10010)\n",
      "Audi (20000)\n",
      "Skoda (54000)\n"
     ]
    }
   ],
   "source": [
    "class Car:\n",
    "    def __init__(self, name, mileage):\n",
    "        self.name = name\n",
    "        self.mileage = mileage\n",
    "    def __lt__(self, inner):\n",
    "        return self.mileage < inner.mileage\n",
    "    def __str__(self):\n",
    "        return self.name + ' (' + str(self.mileage) + ')'\n",
    "    \n",
    "cars = [ Car('Tico', 10010), Car('Audi', 20000), Car('Skoda', 54000), Car('Polonez', 6700)]\n",
    "#cars = sorted(cars, key = lambda x: x.mileage)\n",
    "cars = sorted(cars)\n",
    "for c in cars:\n",
    "    print(str(c))"
   ]
  },
  {
   "cell_type": "code",
   "execution_count": null,
   "metadata": {
    "collapsed": true
   },
   "outputs": [],
   "source": []
  }
 ],
 "metadata": {
  "kernelspec": {
   "display_name": "Python 3",
   "language": "python",
   "name": "python3"
  },
  "language_info": {
   "codemirror_mode": {
    "name": "ipython",
    "version": 3
   },
   "file_extension": ".py",
   "mimetype": "text/x-python",
   "name": "python",
   "nbconvert_exporter": "python",
   "pygments_lexer": "ipython3",
   "version": "3.6.1"
  }
 },
 "nbformat": 4,
 "nbformat_minor": 2
}
